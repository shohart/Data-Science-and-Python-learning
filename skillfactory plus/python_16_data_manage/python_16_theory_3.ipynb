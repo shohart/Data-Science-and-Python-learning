{
 "cells": [
  {
   "cell_type": "code",
   "execution_count": 11,
   "metadata": {},
   "outputs": [
    {
     "data": {
      "text/plain": [
       "<Element 'menu' at 0x00000276EAE013F0>"
      ]
     },
     "metadata": {},
     "output_type": "display_data"
    },
    {
     "data": {
      "text/plain": [
       "xml.etree.ElementTree.Element"
      ]
     },
     "metadata": {},
     "output_type": "display_data"
    },
    {
     "data": {
      "text/plain": [
       "[<Element 'dish' at 0x00000276EAE01440>,\n",
       " <Element 'dish' at 0x00000276EAE01580>,\n",
       " <Element 'dish' at 0x00000276EAE016C0>]"
      ]
     },
     "metadata": {},
     "output_type": "display_data"
    },
    {
     "data": {
      "text/plain": [
       "[<Element 'price' at 0x00000276EAE015D0>,\n",
       " <Element 'weight' at 0x00000276EAE01620>,\n",
       " <Element 'class' at 0x00000276EAE01670>]"
      ]
     },
     "metadata": {},
     "output_type": "display_data"
    },
    {
     "data": {
      "text/plain": [
       "{'name': 'Кура'}"
      ]
     },
     "metadata": {},
     "output_type": "display_data"
    },
    {
     "data": {
      "text/plain": [
       "<Element 'price' at 0x00000276EAE01490>"
      ]
     },
     "metadata": {},
     "output_type": "display_data"
    },
    {
     "data": {
      "text/plain": [
       "'40'"
      ]
     },
     "metadata": {},
     "output_type": "display_data"
    }
   ],
   "source": [
    "import xml.etree.ElementTree as ET\n",
    "\n",
    "\n",
    "tree = ET.parse('data/menu.xml')\n",
    "root = tree.getroot()\n",
    "\n",
    "display(root)\n",
    "display(type(root))\n",
    "display(list(root))\n",
    "\n",
    "display(list(root[1]))\n",
    "display(root[0].attrib)\n",
    "\n",
    "display(root[0][0])\n",
    "display(root[0][0].text)"
   ]
  },
  {
   "cell_type": "code",
   "execution_count": 21,
   "metadata": {},
   "outputs": [
    {
     "data": {
      "text/plain": [
       "'menu'"
      ]
     },
     "metadata": {},
     "output_type": "display_data"
    },
    {
     "data": {
      "text/plain": [
       "'class'"
      ]
     },
     "metadata": {},
     "output_type": "display_data"
    },
    {
     "name": "stdout",
     "output_type": "stream",
     "text": [
      "Кура price 40\n",
      "Кура weight 300\n",
      "Кура class Мясо\n",
      "\n",
      "Греча price 20\n",
      "Греча weight 200\n",
      "Греча class Крупа\n",
      "\n",
      "Шашлык price 100\n",
      "Шашлык weight 400\n",
      "Шашлык class Мясо\n",
      "\n"
     ]
    }
   ],
   "source": [
    "display(root.tag)\n",
    "display(root[0][2].tag)\n",
    "\n",
    "for dish in root:\n",
    "    for param in dish:\n",
    "        print(dish.attrib['name'], param.tag, param.text)\n",
    "    print()"
   ]
  },
  {
   "cell_type": "code",
   "execution_count": 22,
   "metadata": {},
   "outputs": [
    {
     "data": {
      "text/html": [
       "<div>\n",
       "<style scoped>\n",
       "    .dataframe tbody tr th:only-of-type {\n",
       "        vertical-align: middle;\n",
       "    }\n",
       "\n",
       "    .dataframe tbody tr th {\n",
       "        vertical-align: top;\n",
       "    }\n",
       "\n",
       "    .dataframe thead th {\n",
       "        text-align: right;\n",
       "    }\n",
       "</style>\n",
       "<table border=\"1\" class=\"dataframe\">\n",
       "  <thead>\n",
       "    <tr style=\"text-align: right;\">\n",
       "      <th></th>\n",
       "      <th>name</th>\n",
       "      <th>price</th>\n",
       "      <th>weight</th>\n",
       "      <th>class</th>\n",
       "    </tr>\n",
       "  </thead>\n",
       "  <tbody>\n",
       "    <tr>\n",
       "      <th>0</th>\n",
       "      <td>Кура</td>\n",
       "      <td>40</td>\n",
       "      <td>300</td>\n",
       "      <td>Мясо</td>\n",
       "    </tr>\n",
       "    <tr>\n",
       "      <th>1</th>\n",
       "      <td>Греча</td>\n",
       "      <td>20</td>\n",
       "      <td>200</td>\n",
       "      <td>Крупа</td>\n",
       "    </tr>\n",
       "    <tr>\n",
       "      <th>2</th>\n",
       "      <td>Шашлык</td>\n",
       "      <td>100</td>\n",
       "      <td>400</td>\n",
       "      <td>Мясо</td>\n",
       "    </tr>\n",
       "  </tbody>\n",
       "</table>\n",
       "</div>"
      ],
      "text/plain": [
       "     name price weight  class\n",
       "0    Кура    40    300   Мясо\n",
       "1   Греча    20    200  Крупа\n",
       "2  Шашлык   100    400   Мясо"
      ]
     },
     "metadata": {},
     "output_type": "display_data"
    }
   ],
   "source": [
    "import pandas as pd\n",
    "\n",
    "\n",
    "column_names = ['name', 'price', 'weight', 'class']\n",
    "df_list = []\n",
    "\n",
    "for dish in root:\n",
    "    row = [dish.attrib['name'], dish[0].text, dish[1].text, dish[2].text]\n",
    "    df_list.append(row)\n",
    "    df = pd.DataFrame(df_list, columns=column_names)\n",
    "display(df)"
   ]
  },
  {
   "cell_type": "code",
   "execution_count": 32,
   "metadata": {},
   "outputs": [
    {
     "data": {
      "text/plain": [
       "<Element 'menu' at 0x00000276FB26CE50>"
      ]
     },
     "metadata": {},
     "output_type": "display_data"
    },
    {
     "data": {
      "text/plain": [
       "[<Element 'dish' at 0x00000276FA70E070>,\n",
       " <Element 'dish' at 0x00000276FA6DC130>,\n",
       " <Element 'dish' at 0x00000276FA697DD0>]"
      ]
     },
     "metadata": {},
     "output_type": "display_data"
    },
    {
     "data": {
      "text/plain": [
       "[<Element 'price' at 0x00000276FAB878D0>,\n",
       " <Element 'weight' at 0x00000276FB937060>,\n",
       " <Element 'class' at 0x00000276FB211580>]"
      ]
     },
     "metadata": {},
     "output_type": "display_data"
    },
    {
     "data": {
      "text/plain": [
       "[<Element 'price' at 0x00000276FA697BA0>,\n",
       " <Element 'weight' at 0x00000276FB2C14E0>,\n",
       " <Element 'class' at 0x00000276FA18A3E0>]"
      ]
     },
     "metadata": {},
     "output_type": "display_data"
    },
    {
     "data": {
      "text/plain": [
       "[<Element 'price' at 0x00000276FA6F5350>,\n",
       " <Element 'weight' at 0x00000276FA6F6890>,\n",
       " <Element 'class' at 0x00000276FA6F7650>]"
      ]
     },
     "metadata": {},
     "output_type": "display_data"
    },
    {
     "name": "stdout",
     "output_type": "stream",
     "text": [
      "Кура price 40\n",
      "Кура weight 300\n",
      "Кура class Мясо\n",
      "\n",
      "Греча price 20\n",
      "Греча weight 200\n",
      "Греча class Крупа\n",
      "\n",
      "Шашлык price 100\n",
      "Шашлык weight 400\n",
      "Шашлык class Мясо\n",
      "\n"
     ]
    }
   ],
   "source": [
    "new_root = ET.Element('menu')\n",
    "display(new_root)\n",
    "\n",
    "dish1 = ET.SubElement(new_root, 'dish', name='Кура')\n",
    "dish2 = ET.SubElement(new_root, 'dish', name='Греча')\n",
    "dish3 = ET.SubElement(new_root, 'dish', name='Шашлык')\n",
    "display(list(new_root))\n",
    "\n",
    "price1 = ET.SubElement(dish1, 'price').text = '40'\n",
    "weight1 = ET.SubElement(dish1, 'weight').text = '300'\n",
    "class1 = ET.SubElement(dish1, 'class').text = 'Мясо'\n",
    "display(list(dish1))\n",
    "\n",
    "price2 = ET.SubElement(dish2, 'price').text = '20'\n",
    "weight2 = ET.SubElement(dish2, 'weight').text = '200'\n",
    "class2 = ET.SubElement(dish2, 'class').text = 'Крупа'\n",
    "display(list(dish2))\n",
    "\n",
    "price3 = ET.SubElement(dish3, 'price').text = '100'\n",
    "weight3 = ET.SubElement(dish3, 'weight').text = '400'\n",
    "class3 = ET.SubElement(dish3, 'class').text = 'Мясо'\n",
    "display(list(dish3))\n",
    "\n",
    "for dish in new_root:\n",
    "    for param in dish:\n",
    "        print(dish.attrib['name'], param.tag, param.text)\n",
    "    print()\n"
   ]
  },
  {
   "cell_type": "code",
   "execution_count": 33,
   "metadata": {},
   "outputs": [],
   "source": [
    "new_root_string = ET.tostring(new_root)\n",
    "with open('new_menu.xml', 'wb') as f:\n",
    "    f.write(new_root_string)"
   ]
  }
 ],
 "metadata": {
  "kernelspec": {
   "display_name": "Python 3",
   "language": "python",
   "name": "python3"
  },
  "language_info": {
   "codemirror_mode": {
    "name": "ipython",
    "version": 3
   },
   "file_extension": ".py",
   "mimetype": "text/x-python",
   "name": "python",
   "nbconvert_exporter": "python",
   "pygments_lexer": "ipython3",
   "version": "3.10.9"
  },
  "orig_nbformat": 4,
  "vscode": {
   "interpreter": {
    "hash": "cc2a200e1e6dab10c4dc3986f0e7a998296447c993c26561a1bd050a849d8214"
   }
  }
 },
 "nbformat": 4,
 "nbformat_minor": 2
}
