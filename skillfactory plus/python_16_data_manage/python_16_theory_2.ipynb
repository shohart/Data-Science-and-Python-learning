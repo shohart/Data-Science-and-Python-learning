{
 "cells": [
  {
   "cell_type": "code",
   "execution_count": 2,
   "metadata": {},
   "outputs": [],
   "source": [
    "import pandas as pd\n",
    "import json\n",
    "\n",
    "\n",
    "df = pd.read_csv('data/recipes.csv')"
   ]
  },
  {
   "cell_type": "code",
   "execution_count": 3,
   "metadata": {},
   "outputs": [],
   "source": [
    "result_lst = []\n",
    "for i in df.id:\n",
    "    result_lst.append(i)\n",
    "    \n",
    "def undupe(seq):\n",
    "    seen = set()\n",
    "    seen_add = seen.add\n",
    "    return [x for x in seq if not (x in seen or seen_add(x))]\n",
    "\n",
    "ids = undupe(result_lst)\n",
    "ingredients = df.columns[3:].tolist()"
   ]
  },
  {
   "cell_type": "code",
   "execution_count": 4,
   "metadata": {},
   "outputs": [
    {
     "name": "stdout",
     "output_type": "stream",
     "text": [
      "[13162, 6602, 42779]\n",
      "['table cream', 'vegetable broth', 'dashi', 'mango']\n"
     ]
    },
    {
     "data": {
      "text/plain": [
       "0"
      ]
     },
     "execution_count": 4,
     "metadata": {},
     "output_type": "execute_result"
    }
   ],
   "source": [
    "print(ids[4:7])\n",
    "print(ingredients[5:9])\n",
    "\n",
    "int(df[df['id'] == 13162]['table cream'])"
   ]
  },
  {
   "cell_type": "code",
   "execution_count": 5,
   "metadata": {},
   "outputs": [],
   "source": [
    "from pprint import pprint\n",
    "\n",
    "\n",
    "new_recipes = []\n",
    "def make_list(row):\n",
    "    result = []\n",
    "    for i in ingredients:\n",
    "        if row[i].item() == 1:\n",
    "            result.append(i)\n",
    "    return result\n",
    "\n",
    "for pos in ids:\n",
    "    cuisine = df[df['id'] == pos]['cuisine'].iloc[0]\n",
    "    cur_ingredients = make_list(df[df['id'] == pos])\n",
    "    cur_recipe = {'cuisine': cuisine, 'id': int(pos), 'ingredients': cur_ingredients}\n",
    "    new_recipes.append(cur_recipe)\n"
   ]
  },
  {
   "cell_type": "code",
   "execution_count": 6,
   "metadata": {},
   "outputs": [],
   "source": [
    "new_recipes = json.dumps(new_recipes)\n",
    "with open(\"data/new_recipes.json\", \"w\") as write_file:\n",
    "    write_file.write(new_recipes)"
   ]
  }
 ],
 "metadata": {
  "kernelspec": {
   "display_name": "Python 3",
   "language": "python",
   "name": "python3"
  },
  "language_info": {
   "codemirror_mode": {
    "name": "ipython",
    "version": 3
   },
   "file_extension": ".py",
   "mimetype": "text/x-python",
   "name": "python",
   "nbconvert_exporter": "python",
   "pygments_lexer": "ipython3",
   "version": "3.10.9"
  },
  "orig_nbformat": 4,
  "vscode": {
   "interpreter": {
    "hash": "cc2a200e1e6dab10c4dc3986f0e7a998296447c993c26561a1bd050a849d8214"
   }
  }
 },
 "nbformat": 4,
 "nbformat_minor": 2
}
