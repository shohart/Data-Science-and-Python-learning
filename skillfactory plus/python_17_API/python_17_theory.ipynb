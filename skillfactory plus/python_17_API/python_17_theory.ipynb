{
 "cells": [
  {
   "cell_type": "code",
   "execution_count": 1,
   "metadata": {},
   "outputs": [
    {
     "data": {
      "text/plain": [
       "str"
      ]
     },
     "execution_count": 1,
     "metadata": {},
     "output_type": "execute_result"
    }
   ],
   "source": [
    "from urllib import response\n",
    "import requests\n",
    "\n",
    "\n",
    "url = 'https://www.cbr-xml-daily.ru/daily_json.js'\n",
    "response = requests.get(url)\n",
    "\n",
    "# print(response)\n",
    "# print(response.status_code)\n",
    "# print(response.text)\n",
    "type(response.text)\n"
   ]
  },
  {
   "cell_type": "code",
   "execution_count": 2,
   "metadata": {},
   "outputs": [
    {
     "name": "stdout",
     "output_type": "stream",
     "text": [
      "{'CharCode': 'EUR',\n",
      " 'ID': 'R01239',\n",
      " 'Name': 'Евро',\n",
      " 'Nominal': 1,\n",
      " 'NumCode': '978',\n",
      " 'Previous': 76.0765,\n",
      " 'Value': 75.6553}\n"
     ]
    }
   ],
   "source": [
    "from pprint import pprint\n",
    "\n",
    "\n",
    "currencies = response.json()\n",
    "pprint(currencies['Valute']['EUR'])"
   ]
  },
  {
   "cell_type": "code",
   "execution_count": 3,
   "metadata": {},
   "outputs": [
    {
     "name": "stdout",
     "output_type": "stream",
     "text": [
      "Чешских крон\n"
     ]
    }
   ],
   "source": [
    "print(currencies['Valute']['CZK']['Name'])"
   ]
  },
  {
   "cell_type": "code",
   "execution_count": 4,
   "metadata": {},
   "outputs": [],
   "source": [
    "url = 'https://nplus1.ru/news/2021/10/11/econobel2021'\n",
    "response = requests.get(url)\n",
    "\n",
    "# print(response.text)"
   ]
  },
  {
   "cell_type": "code",
   "execution_count": 5,
   "metadata": {},
   "outputs": [
    {
     "name": "stdout",
     "output_type": "stream",
     "text": [
      "<title>Премию Нобеля по экономике присудили за исследования экономики труда и причинно-следственных связей</title>\n",
      "Премию Нобеля по экономике присудили за исследования экономики труда и причинно-следственных связей\n",
      "\n",
      "            Премию Нобеля по экономике присудили за исследования экономики труда и причинно-следственных связей\n",
      "          \n",
      "\n",
      "13:04\n",
      "\n"
     ]
    }
   ],
   "source": [
    "from bs4 import BeautifulSoup\n",
    "\n",
    "\n",
    "page = BeautifulSoup(response.text, 'html.parser')\n",
    "\n",
    "print(page.title)\n",
    "print(page.title.text)\n",
    "\n",
    "print(page.find('h1').text)\n",
    "print(page.find('span').text)\n"
   ]
  },
  {
   "cell_type": "code",
   "execution_count": 6,
   "metadata": {},
   "outputs": [
    {
     "name": "stdout",
     "output_type": "stream",
     "text": [
      "Премия Шведского национального банка по экономическим наукам памяти Альфреда Нобеля за 2021 год присуждена Дэвиду Карду (David Card) за его вклад в эмпирические исследования экономики рынка труда, а также Джошуа Энгристу (Joshua Angrist) и Гвидо Имбенсу (Guido Imbens) за их вклад в методологию анализа причинно-следственных связей. Прямая трансляция церемонии объявления лауреатов шла на официальном сайте Нобелевской премии.\n"
     ]
    }
   ],
   "source": [
    "print(page.find('div', class_='n1_material text-18').text)"
   ]
  },
  {
   "cell_type": "code",
   "execution_count": 7,
   "metadata": {},
   "outputs": [
    {
     "name": "stdout",
     "output_type": "stream",
     "text": [
      "<a id=\"top\"></a>\n",
      "942\n",
      "['Opal', 'Open Programming Language', 'OpenCL', 'OpenEdge Advanced Business Language', 'OpenVera', 'OpenQASM', 'OPS5', 'OptimJ', 'Orc', 'ORCA/Modula-2']\n",
      "['', 'Jump to navigation', 'Jump to search', 'Programming languagelists', 'Alphabetical', 'Categorical', 'Chronological', 'Generational', 'v', 't', 'e', 'programming languages', 'Dialects', 'BASIC', 'esoteric programming languages', 'markup languages', 'imperative', 'Turing-complete', 'executable', 'markups']\n"
     ]
    }
   ],
   "source": [
    "url = 'https://en.wikipedia.org/wiki/List_of_programming_languages'\n",
    "response = requests.get(url)\n",
    "page = BeautifulSoup(response.text, 'html.parser')\n",
    "print(page.find('a'))\n",
    "\n",
    "links = page.find_all('a')\n",
    "print(len(links))\n",
    "\n",
    "print([link.text for link in links[500:510]])\n",
    "\n",
    "print([link.text for link in links[0:20]])"
   ]
  },
  {
   "cell_type": "code",
   "execution_count": 8,
   "metadata": {},
   "outputs": [
    {
     "name": "stdout",
     "output_type": "stream",
     "text": [
      "{\"response\":[{\"id\":1,\"bdate\":\"10.10.1984\",\"sex\":2,\"first_name\":\"Павел\",\"last_name\":\"Дуров\",\"can_access_closed\":true,\"is_closed\":false}]}\n",
      "{'response': [{'bdate': '10.10.1984',\n",
      "               'can_access_closed': True,\n",
      "               'first_name': 'Павел',\n",
      "               'id': 1,\n",
      "               'is_closed': False,\n",
      "               'last_name': 'Дуров',\n",
      "               'sex': 2}]}\n",
      "10.10.1984\n",
      "Павел\n"
     ]
    }
   ],
   "source": [
    "vk_token = '14b7a2d914b7a2d914b7a2d9e417a5b519114b714b7a2d97704e19e9b663873ec210b03'\n",
    "\n",
    "url = 'https://api.vk.com/method/users.get'\n",
    "params = {'user_id': 1, 'v':5.95, 'fields': 'sex,bdate', 'access_token': vk_token, 'lang': 'ru'}\n",
    "\n",
    "response = requests.get(url, params=params)\n",
    "\n",
    "print(response.text)\n",
    "pprint(response.json())\n",
    "\n",
    "user = response.json()['response'][0]\n",
    "print(user['bdate'])\n",
    "print(user['first_name'])\n"
   ]
  },
  {
   "cell_type": "code",
   "execution_count": 36,
   "metadata": {},
   "outputs": [],
   "source": [
    "from numpy.random import randint\n",
    "from numpy.random import seed\n",
    "\n",
    "\n",
    "seed(1858)\n",
    "\n",
    "ids = \",\".join(map(str, range(1, 500)))\n",
    "ids2 = \",\".join(map(str, randint(0, 10, 20)))\n",
    "params = {'user_ids': ids, 'v': 5.95, 'fields': 'sex', 'access_token': vk_token, 'lang': 'ru'}\n",
    "\n",
    "db_test = requests.get(url, params=params).json()\n"
   ]
  },
  {
   "cell_type": "code",
   "execution_count": 38,
   "metadata": {},
   "outputs": [
    {
     "name": "stdout",
     "output_type": "stream",
     "text": [
      "3\n",
      "Counter({2: 217, 1: 205, 0: 77})\n",
      "0.49\n"
     ]
    }
   ],
   "source": [
    "import json\n",
    "import pandas as pd\n",
    "from collections import Counter as cnt\n",
    "\n",
    "\n",
    "sex_list = []\n",
    "for line in db_test['response']:\n",
    "    sex_list.append(line['sex'])\n",
    "\n",
    "total = cnt(sex_list)\n",
    "print(len(total))\n",
    "print(total)\n",
    "\n",
    "print(round((total[1] / (total[1] + total[2])), 2))   "
   ]
  },
  {
   "cell_type": "code",
   "execution_count": 42,
   "metadata": {},
   "outputs": [
    {
     "name": "stdout",
     "output_type": "stream",
     "text": [
      "1000\n",
      "[6, 19, 47, 54, 79, 177, 198, 212, 219, 239, 243, 345, 407, 450, 467, 485, 510, 550, 619, 640]\n"
     ]
    }
   ],
   "source": [
    "url = 'https://api.vk.com/method/groups.getMembers'\n",
    "\n",
    "params = {'group_id': 'vk', 'v': 5.95, 'access_token': vk_token}\n",
    "response = requests.get(url, params=params)\n",
    "\n",
    "data = response.json()\n",
    "\n",
    "# print(data)\n",
    "print(len(data['response']['items']))\n",
    "\n",
    "users_for_checking = data['response']['items'][:20]\n",
    "print(users_for_checking)"
   ]
  },
  {
   "cell_type": "code",
   "execution_count": 46,
   "metadata": {},
   "outputs": [
    {
     "name": "stdout",
     "output_type": "stream",
     "text": [
      "Выгружаю 1000 пользователей с offset = 0\n",
      "Ожидаю 0,5 секунды...\n",
      "Выгружаю 1000 пользователей с offset = 1000\n",
      "Ожидаю 0,5 секунды...\n",
      "Выгружаю 1000 пользователей с offset = 2000\n",
      "Ожидаю 0,5 секунды...\n",
      "Выгружаю 1000 пользователей с offset = 3000\n",
      "Ожидаю 0,5 секунды...\n",
      "Выгружаю 1000 пользователей с offset = 4000\n",
      "Ожидаю 0,5 секунды...\n"
     ]
    }
   ],
   "source": [
    "import requests # Импортируем модуль requests\n",
    "import time\n",
    "\n",
    "token = vk_token # Указываем свой сервисный токен\n",
    "url = 'https://api.vk.com/method/groups.getMembers' # Указываем адрес обращения\n",
    "count = 1000 \n",
    "offset = 0 \n",
    "user_ids = [] \n",
    "max_count = 5000\n",
    "while offset < max_count: \n",
    "    # Будем выгружать по count=5 пользователей, \n",
    "    # начиная с того места, где закончили на предыдущей итерации (offset) \n",
    "    print('Выгружаю {} пользователей с offset = {}'.format(count, offset))   \n",
    "    params = {'group_id': 'vk', 'v': 5.95, 'count': count, 'offset': offset, 'access_token': token} \n",
    "    response = requests.get(url, params = params) \n",
    "    data = response.json() \n",
    "    user_ids += data['response']['items'] \n",
    "    # Увеличиваем смещение на количество строк, которое мы уже выгрузили \n",
    "    offset += count \n",
    "    print('Ожидаю 0,5 секунды...')\n",
    "\n",
    "# print(user_ids) \n"
   ]
  },
  {
   "cell_type": "code",
   "execution_count": 49,
   "metadata": {},
   "outputs": [
    {
     "data": {
      "text/plain": [
       "{'id': 1374716,\n",
       " 'from_id': -22822305,\n",
       " 'owner_id': -22822305,\n",
       " 'date': 1672506763,\n",
       " 'marked_as_ads': 0,\n",
       " 'copy_history': [{'attachments': [{'type': 'photo',\n",
       "     'photo': {'album_id': -7,\n",
       "      'date': 1672506337,\n",
       "      'id': 457240174,\n",
       "      'owner_id': 92933,\n",
       "      'access_key': '6692387cec77bb65d6',\n",
       "      'post_id': 582,\n",
       "      'sizes': [{'height': 130,\n",
       "        'type': 'm',\n",
       "        'width': 130,\n",
       "        'url': 'https://sun9-69.userapi.com/impg/jaY8va0BpPtOhJ1MiyerQICxqEwZAjF5bhXSAA/E7ouLwQPUNI.jpg?size=130x130&quality=96&sign=f78d529693d56329fa208ba57b471e77&c_uniq_tag=ASNzeXj9PQVONyfOi9482YzJHesTpYgrxaDlX0RybLw&type=album'},\n",
       "       {'height': 130,\n",
       "        'type': 'o',\n",
       "        'width': 130,\n",
       "        'url': 'https://sun9-69.userapi.com/impg/jaY8va0BpPtOhJ1MiyerQICxqEwZAjF5bhXSAA/E7ouLwQPUNI.jpg?size=130x130&quality=96&sign=f78d529693d56329fa208ba57b471e77&c_uniq_tag=ASNzeXj9PQVONyfOi9482YzJHesTpYgrxaDlX0RybLw&type=album'},\n",
       "       {'height': 200,\n",
       "        'type': 'p',\n",
       "        'width': 200,\n",
       "        'url': 'https://sun9-69.userapi.com/impg/jaY8va0BpPtOhJ1MiyerQICxqEwZAjF5bhXSAA/E7ouLwQPUNI.jpg?size=200x200&quality=96&sign=91632907f4d312cc473819be001dc208&c_uniq_tag=CNoGi-sV5Hy0Q-HbtqjPGLU_PMGuKrf50DYxFk3DSVg&type=album'},\n",
       "       {'height': 320,\n",
       "        'type': 'q',\n",
       "        'width': 320,\n",
       "        'url': 'https://sun9-69.userapi.com/impg/jaY8va0BpPtOhJ1MiyerQICxqEwZAjF5bhXSAA/E7ouLwQPUNI.jpg?size=320x320&quality=96&sign=e9f9dc6124d8c9c9afc6c592e2e79bc7&c_uniq_tag=DbA9vZNecMcjugpIyIk0TWw88F8NsuzMQkQFRIXKpJs&type=album'},\n",
       "       {'height': 510,\n",
       "        'type': 'r',\n",
       "        'width': 510,\n",
       "        'url': 'https://sun9-69.userapi.com/impg/jaY8va0BpPtOhJ1MiyerQICxqEwZAjF5bhXSAA/E7ouLwQPUNI.jpg?size=510x510&quality=96&sign=354c8846b0a1b2e57b26caf17deceeb5&c_uniq_tag=RXI6v_BvNAvFve4YktC6QfTCDDDNrIxCDbuI_-uxtsw&type=album'},\n",
       "       {'height': 75,\n",
       "        'type': 's',\n",
       "        'width': 75,\n",
       "        'url': 'https://sun9-69.userapi.com/impg/jaY8va0BpPtOhJ1MiyerQICxqEwZAjF5bhXSAA/E7ouLwQPUNI.jpg?size=75x75&quality=96&sign=9e706c891261f589a9433538baaabda8&c_uniq_tag=x7sT5CwYy84nMwFWIj_qk9O6qiauZiRq_CyiyTTyUIw&type=album'},\n",
       "       {'height': 2000,\n",
       "        'type': 'w',\n",
       "        'width': 2000,\n",
       "        'url': 'https://sun9-69.userapi.com/impg/jaY8va0BpPtOhJ1MiyerQICxqEwZAjF5bhXSAA/E7ouLwQPUNI.jpg?size=2000x2000&quality=96&sign=bf760dc9260e2c31c69faabd9768a437&c_uniq_tag=s4uvDu7EV6rLNlastLG-wEv-1vAyKsUHQMtXyRZSjO8&type=album'},\n",
       "       {'height': 604,\n",
       "        'type': 'x',\n",
       "        'width': 604,\n",
       "        'url': 'https://sun9-69.userapi.com/impg/jaY8va0BpPtOhJ1MiyerQICxqEwZAjF5bhXSAA/E7ouLwQPUNI.jpg?size=604x604&quality=96&sign=51e3793d2dc188deced8aa0e67714640&c_uniq_tag=UPqFapJLfTMWiiGsDMxCVwzFVE1XCnusqsgfWYdpmIc&type=album'},\n",
       "       {'height': 807,\n",
       "        'type': 'y',\n",
       "        'width': 807,\n",
       "        'url': 'https://sun9-69.userapi.com/impg/jaY8va0BpPtOhJ1MiyerQICxqEwZAjF5bhXSAA/E7ouLwQPUNI.jpg?size=807x807&quality=96&sign=7447df0f6bed8830075bf3029d2877d7&c_uniq_tag=U8HZsdSvY9yhAf49ZGr9FBbKqz3JvTLrzwEu4nexFyY&type=album'},\n",
       "       {'height': 1280,\n",
       "        'type': 'z',\n",
       "        'width': 1280,\n",
       "        'url': 'https://sun9-69.userapi.com/impg/jaY8va0BpPtOhJ1MiyerQICxqEwZAjF5bhXSAA/E7ouLwQPUNI.jpg?size=1280x1280&quality=96&sign=2461a096b133253d2b177316d776574b&c_uniq_tag=j_QfhccYgHlCr40P3LK3WXLKFw1ScvBJKbaJK5hvZTI&type=album'}],\n",
       "      'text': ''}}],\n",
       "   'date': 1672506610,\n",
       "   'from_id': 92933,\n",
       "   'id': 582,\n",
       "   'owner_id': 92933,\n",
       "   'post_source': {'type': 'vk'},\n",
       "   'post_type': 'post',\n",
       "   'text': '2022-й без преувеличения можно назвать рекордным для нашей Команды. В течение года мы рассказывали о наших результатах, запусках и ключевых событиях — мы представили свыше 230 продуктовых и технологических обновлений. Улучшения коснулись всех наших продуктов — и это позволило нам добиться невероятных успехов. \\n\\nЕжемесячная аудитория ВКонтакте впервые превысила 100 миллионов пользователей, мы стали первой соцсетью в России по среднему времени посещения, количеству публикаций и авторов, ежедневные просмотры видео на платформе видеотехнологий VK за 11 месяцев выросли на 49%, до 2,75 млрд, VK Звонки названы лучшим решением для видеоконференций на iOS и Android, VK Мессенджер — самым популярным мессенджером у школьников, число приложений на платформе VK Mini Apps достигло отметки 63 тысячи, а VK Клипы стали лидером среди российских сервисов коротких роликов и установили рекорд в 1 млрд ежедневных просмотров.\\n\\nО результатах мы традиционно рассказывали на протяжении всего декабря в специальном разделе ВКонтакте: vk.com/2022 — здесь сможете узнать больше про наши продуктовые итоги, благотворительные инициативы и технологические обновления, среди которых — новая рекомендательная система VK Клипов, совместный просмотр медиаконтента во время видеоконференций, уникальные цифровые аватары vmoji, запуск VK NFT и многое другое.\\n\\nЗа каждым запуском, обновлением и технологическим прорывом стоит большая Команда, которая каждый день работает над созданием простых и удобных инструментов коммуникации. Спасибо Команде ВКонтакте — талантливейшим людям, которые вдохновляют и восхищают. Верю, что в следующем году нас ждёт ещё больше крутых обновлений, технологичных инструментов и новых побед! \\n\\nМы будем рады создавать и развивать наши сервисы — чтобы помогать вам общаться с друзьями, быть на связи с семьёй, находить единомышленников и новые знакомства, эффективно развивать свой бизнес, учиться и саморазвиваться, отдыхать и веселиться, продуктивно заниматься повседневными вопросами, получать новые впечатления и делиться ими с другими. Пусть в 2023-м всегда будет чем поделиться! \\n\\nС наступающим Новым годом! Будем ВКонтакте 💙'}],\n",
       " 'comments': {'can_post': 1, 'count': 193, 'groups_can_post': True},\n",
       " 'attachments': [],\n",
       " 'likes': {'can_like': 1, 'count': 1660, 'user_likes': 0, 'can_publish': 1},\n",
       " 'post_source': {'platform': 'iphone', 'type': 'api'},\n",
       " 'post_type': 'post',\n",
       " 'reposts': {'count': 250, 'user_reposted': 0},\n",
       " 'text': '',\n",
       " 'views': {'count': 341028},\n",
       " 'hash': 'gS9QvURcyoUvNo_zHw'}"
      ]
     },
     "execution_count": 49,
     "metadata": {},
     "output_type": "execute_result"
    }
   ],
   "source": [
    "import requests # Импортируем модуль requests\n",
    "from pprint import pprint # Импортируем функцию pprint()\n",
    "\n",
    "\n",
    "token = vk_token # Указываем свой сервисный токен\n",
    "url = 'https://api.vk.com/method/wall.get' # Указываем адрес страницы, к которой делаем запрос\n",
    "params = {'domain': 'vk', 'filter': 'owner', 'count': 1000, 'offset': 0, 'access_token': token, 'v': 5.95} \n",
    "response = requests.get(url, params = params) \n",
    "# pprint(response.json())\n",
    "\n",
    "len(response.json()['response']['items'])\n",
    "\n",
    "response.json()['response']['items'][0]  "
   ]
  },
  {
   "cell_type": "code",
   "execution_count": 50,
   "metadata": {},
   "outputs": [
    {
     "name": "stdout",
     "output_type": "stream",
     "text": [
      "{'CEO ВКонтакте Марина Краснова ': [87, 572, 169, 1672419951],\n",
      " 'А вот и рейтинг главных мемов ': [395, 3723, 1101, 1672210020],\n",
      " 'В VK Звонках теперь можно вмес': [145, 1512, 633, 1671629171],\n",
      " 'В Петербурге открылся первый м': [300, 1013, 422, 1671796635],\n",
      " 'ВКонтакте есть добрая новогодн': [113, 1150, 233, 1672300776],\n",
      " 'ВКонтакте много ценителей куль': [141, 1112, 328, 1671712120],\n",
      " 'Год выдался насыщенным на техн': [309, 955, 292, 1672061199],\n",
      " 'Предупредим вас о потенциально': [229, 981, 291, 1672123320],\n",
      " 'Уже 8 млн человек общаются с п': [241, 7680, 2274, 1671701804],\n",
      " 'Что обсуждали, смотрели и слуш': [172, 922, 231, 1672328610]}\n"
     ]
    }
   ],
   "source": [
    "stats = {}\n",
    "count_post = 0\n",
    "for record in response.json()['response']['items'][:]:\n",
    "    title = record['text'][:30]\n",
    "    if title:\n",
    "        stats[title] = [record['comments']['count'], record['likes']['count'], record['reposts']['count'], record['date']]\n",
    "        count_post += 1\n",
    "    if count_post < 10:\n",
    "        continue\n",
    "    else:\n",
    "        break\n",
    "    \n",
    "pprint(stats)"
   ]
  },
  {
   "cell_type": "code",
   "execution_count": 52,
   "metadata": {},
   "outputs": [
    {
     "name": "stdout",
     "output_type": "stream",
     "text": [
      "Hello! I am task! ;)\n",
      "Hello! I am task! ;)\n",
      "Hello! I am task! ;)\n",
      "Hello! I am task! ;)\n",
      "Hello! I am task! ;)\n",
      "Hello! I am task! ;)\n",
      "Hello! I am task! ;)\n",
      "Hello! I am task! ;)\n",
      "Hello! I am task! ;)\n",
      "Hello! I am task! ;)\n",
      "Hello! I am task! ;)\n",
      "Hello! I am task! ;)\n",
      "Hello! I am task! ;)\n",
      "Hello! I am task! ;)\n",
      "Hello! I am task! ;)\n",
      "Hello! I am task! ;)\n",
      "Hello! I am task! ;)\n",
      "Hello! I am task! ;)\n",
      "Hello! I am task! ;)\n",
      "Hello! I am task! ;)\n",
      "Hello! I am task! ;)\n",
      "Hello! I am task! ;)\n",
      "Hello! I am task! ;)\n",
      "Hello! I am task! ;)\n",
      "Hello! I am task! ;)\n",
      "Hello! I am task! ;)\n",
      "Hello! I am task! ;)\n",
      "Hello! I am task! ;)\n",
      "Hello! I am task! ;)\n",
      "Hello! I am task! ;)\n",
      "Hello! I am task! ;)\n",
      "Hello! I am task! ;)\n",
      "Hello! I am task! ;)\n",
      "Hello! I am task! ;)\n",
      "Hello! I am task! ;)\n",
      "Hello! I am task! ;)\n",
      "Hello! I am task! ;)\n",
      "Hello! I am task! ;)\n"
     ]
    },
    {
     "ename": "KeyboardInterrupt",
     "evalue": "",
     "output_type": "error",
     "traceback": [
      "\u001b[1;31m---------------------------------------------------------------------------\u001b[0m",
      "\u001b[1;31mKeyboardInterrupt\u001b[0m                         Traceback (most recent call last)",
      "\u001b[1;32mc:\\Users\\redsh\\Documents\\DScourse\\VSCode\\skillfactory plus\\python_17_API\\python_17_theory.ipynb Cell 15\u001b[0m in \u001b[0;36m<cell line: 12>\u001b[1;34m()\u001b[0m\n\u001b[0;32m     <a href='vscode-notebook-cell:/c%3A/Users/redsh/Documents/DScourse/VSCode/skillfactory%20plus/python_17_API/python_17_theory.ipynb#X22sZmlsZQ%3D%3D?line=11'>12</a>\u001b[0m \u001b[39mwhile\u001b[39;00m \u001b[39mTrue\u001b[39;00m:\n\u001b[0;32m     <a href='vscode-notebook-cell:/c%3A/Users/redsh/Documents/DScourse/VSCode/skillfactory%20plus/python_17_API/python_17_theory.ipynb#X22sZmlsZQ%3D%3D?line=12'>13</a>\u001b[0m     schedule\u001b[39m.\u001b[39mrun_pending()\n\u001b[1;32m---> <a href='vscode-notebook-cell:/c%3A/Users/redsh/Documents/DScourse/VSCode/skillfactory%20plus/python_17_API/python_17_theory.ipynb#X22sZmlsZQ%3D%3D?line=13'>14</a>\u001b[0m     time\u001b[39m.\u001b[39;49msleep(\u001b[39m1\u001b[39;49m)\n",
      "\u001b[1;31mKeyboardInterrupt\u001b[0m: "
     ]
    }
   ],
   "source": [
    "import schedule\n",
    "import time\n",
    "\n",
    "\n",
    "def task():\n",
    "    print('Hello! I am task! ;)')\n",
    "    return\n",
    "\n",
    "schedule.every(15).seconds.do(task)\n",
    "schedule.every(1).hour.do(task)\n",
    "\n",
    "while True:\n",
    "    schedule.run_pending()\n",
    "    time.sleep(1)\n",
    "    \n"
   ]
  }
 ],
 "metadata": {
  "kernelspec": {
   "display_name": "Python 3",
   "language": "python",
   "name": "python3"
  },
  "language_info": {
   "codemirror_mode": {
    "name": "ipython",
    "version": 3
   },
   "file_extension": ".py",
   "mimetype": "text/x-python",
   "name": "python",
   "nbconvert_exporter": "python",
   "pygments_lexer": "ipython3",
   "version": "3.10.9 (tags/v3.10.9:1dd9be6, Dec  6 2022, 20:01:21) [MSC v.1934 64 bit (AMD64)]"
  },
  "orig_nbformat": 4,
  "vscode": {
   "interpreter": {
    "hash": "cc2a200e1e6dab10c4dc3986f0e7a998296447c993c26561a1bd050a849d8214"
   }
  }
 },
 "nbformat": 4,
 "nbformat_minor": 2
}
