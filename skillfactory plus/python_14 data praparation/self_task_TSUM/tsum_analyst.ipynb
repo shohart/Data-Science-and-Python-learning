{
 "cells": [
  {
   "cell_type": "code",
   "execution_count": 119,
   "metadata": {},
   "outputs": [
    {
     "data": {
      "text/html": [
       "<div>\n",
       "<style scoped>\n",
       "    .dataframe tbody tr th:only-of-type {\n",
       "        vertical-align: middle;\n",
       "    }\n",
       "\n",
       "    .dataframe tbody tr th {\n",
       "        vertical-align: top;\n",
       "    }\n",
       "\n",
       "    .dataframe thead th {\n",
       "        text-align: right;\n",
       "    }\n",
       "</style>\n",
       "<table border=\"1\" class=\"dataframe\">\n",
       "  <thead>\n",
       "    <tr style=\"text-align: right;\">\n",
       "      <th></th>\n",
       "      <th></th>\n",
       "      <th>price</th>\n",
       "      <th>current price</th>\n",
       "      <th>persent_diff</th>\n",
       "    </tr>\n",
       "    <tr>\n",
       "      <th>brand</th>\n",
       "      <th>Category</th>\n",
       "      <th></th>\n",
       "      <th></th>\n",
       "      <th></th>\n",
       "    </tr>\n",
       "  </thead>\n",
       "  <tbody>\n",
       "    <tr>\n",
       "      <th rowspan=\"2\" valign=\"top\">Brioni</th>\n",
       "      <th>Bags</th>\n",
       "      <td>203.0</td>\n",
       "      <td>201.0</td>\n",
       "      <td>-4.0</td>\n",
       "    </tr>\n",
       "    <tr>\n",
       "      <th>Shoes</th>\n",
       "      <td>238.0</td>\n",
       "      <td>233.0</td>\n",
       "      <td>-5.0</td>\n",
       "    </tr>\n",
       "    <tr>\n",
       "      <th rowspan=\"2\" valign=\"top\">Stone Island</th>\n",
       "      <th>Bags</th>\n",
       "      <td>210.0</td>\n",
       "      <td>218.0</td>\n",
       "      <td>1.0</td>\n",
       "    </tr>\n",
       "    <tr>\n",
       "      <th>Shoes</th>\n",
       "      <td>225.0</td>\n",
       "      <td>225.0</td>\n",
       "      <td>-4.0</td>\n",
       "    </tr>\n",
       "    <tr>\n",
       "      <th rowspan=\"2\" valign=\"top\">Valentino</th>\n",
       "      <th>Bags</th>\n",
       "      <td>229.0</td>\n",
       "      <td>232.0</td>\n",
       "      <td>-3.0</td>\n",
       "    </tr>\n",
       "    <tr>\n",
       "      <th>Shoes</th>\n",
       "      <td>209.0</td>\n",
       "      <td>223.0</td>\n",
       "      <td>-0.0</td>\n",
       "    </tr>\n",
       "  </tbody>\n",
       "</table>\n",
       "</div>"
      ],
      "text/plain": [
       "                       price  current price  persent_diff\n",
       "brand        Category                                    \n",
       "Brioni       Bags      203.0          201.0          -4.0\n",
       "             Shoes     238.0          233.0          -5.0\n",
       "Stone Island Bags      210.0          218.0           1.0\n",
       "             Shoes     225.0          225.0          -4.0\n",
       "Valentino    Bags      229.0          232.0          -3.0\n",
       "             Shoes     209.0          223.0          -0.0"
      ]
     },
     "execution_count": 119,
     "metadata": {},
     "output_type": "execute_result"
    }
   ],
   "source": [
    "import pandas as pd\n",
    "import numpy as np\n",
    "import ds_functions as dsf\n",
    "import seaborn as sns\n",
    "import plotly.express as px\n",
    "\n",
    "tsum_exel = pd.ExcelFile('data/Data_TSUM.xlsx')\n",
    "df_pars = pd.read_excel(tsum_exel, 'Data_Parsing')\n",
    "df_comp = pd.read_excel(tsum_exel, 'Data_Company')\n",
    "\n",
    "rep_chars = '_|-|~|/|\\\\\\\\'\n",
    "df_pars['producer_color'] = df_pars['producer_color'].str.replace(rep_chars,\"\", regex=True)\n",
    "df_pars['producer_id'] = df_pars['producer_id'].str.replace(rep_chars,\"\", regex=True)\n",
    "\n",
    "df_merged = pd.merge(\n",
    "    df_pars,\n",
    "    df_comp[['item_id', 'color_id', 'current price']],\n",
    "    left_on='producer_id',\n",
    "    right_on='item_id',\n",
    "    how='left'\n",
    "    ).drop(['producer_id', 'producer_color'], axis=1)\n",
    "\n",
    "df_merged['persent_diff'] = 100 - round(df_merged['price'] / df_merged['current price'] * 100)\n",
    "\n",
    "grouped_df = df_merged.groupby(['brand', 'Category']).mean().round()\n",
    "grouped_df\n"
   ]
  },
  {
   "cell_type": "code",
   "execution_count": 128,
   "metadata": {},
   "outputs": [
    {
     "name": "stdout",
     "output_type": "stream",
     "text": [
      "Tjuki outliers for brand Valentino/Shoes: 0\n",
      "Z scale outliers for brand Valentino/Shoes:0\n",
      "Tjuki outliers for brand Brioni/Shoes: 4\n",
      "Z scale outliers for brand Brioni/Shoes:0\n",
      "Tjuki outliers for brand Stone Island/Shoes: 0\n",
      "Z scale outliers for brand Stone Island/Shoes:0\n",
      "Tjuki outliers for brand Valentino/Bags: 0\n",
      "Z scale outliers for brand Valentino/Bags:0\n",
      "Tjuki outliers for brand Brioni/Bags: 0\n",
      "Z scale outliers for brand Brioni/Bags:0\n",
      "Tjuki outliers for brand Stone Island/Bags: 1\n",
      "Z scale outliers for brand Stone Island/Bags:0\n"
     ]
    }
   ],
   "source": [
    "brand_list = list(df_merged['brand_cat'].value_counts().index)\n",
    "\n",
    "for brand_name in brand_list:\n",
    "    mask = df_merged['brand_cat'] == brand_name\n",
    "    outliers, cleaned = dsf.outliers_iqr_mod(df_merged[mask], 'persent_diff')\n",
    "    print(f'Tjuki outliers for brand {brand_name}: {outliers.shape[0]}')\n",
    "    outliers, cleaned = dsf.outliers_z_score_mod(df_merged, 'persent_diff', log_scale=False)\n",
    "    print(f'Z scale outliers for brand {brand_name}:{outliers.shape[0]}')\n",
    "\n"
   ]
  },
  {
   "cell_type": "code",
   "execution_count": 120,
   "metadata": {},
   "outputs": [
    {
     "data": {
      "text/plain": [
       "count    75.000000\n",
       "mean     -2.626667\n",
       "std      28.754682\n",
       "min     -68.000000\n",
       "25%     -18.000000\n",
       "50%       4.000000\n",
       "75%      18.500000\n",
       "max      42.000000\n",
       "Name: persent_diff, dtype: float64"
      ]
     },
     "metadata": {},
     "output_type": "display_data"
    }
   ],
   "source": [
    "display(df_merged['persent_diff'].describe())"
   ]
  },
  {
   "cell_type": "code",
   "execution_count": 122,
   "metadata": {},
   "outputs": [
    {
     "data": {
      "text/html": [
       "<div>\n",
       "<style scoped>\n",
       "    .dataframe tbody tr th:only-of-type {\n",
       "        vertical-align: middle;\n",
       "    }\n",
       "\n",
       "    .dataframe tbody tr th {\n",
       "        vertical-align: top;\n",
       "    }\n",
       "\n",
       "    .dataframe thead th {\n",
       "        text-align: right;\n",
       "    }\n",
       "</style>\n",
       "<table border=\"1\" class=\"dataframe\">\n",
       "  <thead>\n",
       "    <tr style=\"text-align: right;\">\n",
       "      <th></th>\n",
       "      <th>brand</th>\n",
       "      <th>Category</th>\n",
       "      <th>price</th>\n",
       "      <th>item_id</th>\n",
       "      <th>color_id</th>\n",
       "      <th>current price</th>\n",
       "      <th>persent_diff</th>\n",
       "      <th>brand_cat</th>\n",
       "    </tr>\n",
       "  </thead>\n",
       "  <tbody>\n",
       "    <tr>\n",
       "      <th>0</th>\n",
       "      <td>Valentino</td>\n",
       "      <td>Shoes</td>\n",
       "      <td>167</td>\n",
       "      <td>aaaaa111111</td>\n",
       "      <td>black</td>\n",
       "      <td>247</td>\n",
       "      <td>32.0</td>\n",
       "      <td>Valentino/Shoes</td>\n",
       "    </tr>\n",
       "    <tr>\n",
       "      <th>1</th>\n",
       "      <td>Valentino</td>\n",
       "      <td>Shoes</td>\n",
       "      <td>188</td>\n",
       "      <td>aaaaa111112</td>\n",
       "      <td>black</td>\n",
       "      <td>161</td>\n",
       "      <td>-17.0</td>\n",
       "      <td>Valentino/Shoes</td>\n",
       "    </tr>\n",
       "    <tr>\n",
       "      <th>2</th>\n",
       "      <td>Valentino</td>\n",
       "      <td>Shoes</td>\n",
       "      <td>184</td>\n",
       "      <td>aaaaa111113</td>\n",
       "      <td>black</td>\n",
       "      <td>234</td>\n",
       "      <td>21.0</td>\n",
       "      <td>Valentino/Shoes</td>\n",
       "    </tr>\n",
       "    <tr>\n",
       "      <th>3</th>\n",
       "      <td>Valentino</td>\n",
       "      <td>Shoes</td>\n",
       "      <td>196</td>\n",
       "      <td>aaaaa111114</td>\n",
       "      <td>black</td>\n",
       "      <td>167</td>\n",
       "      <td>-17.0</td>\n",
       "      <td>Valentino/Shoes</td>\n",
       "    </tr>\n",
       "    <tr>\n",
       "      <th>4</th>\n",
       "      <td>Valentino</td>\n",
       "      <td>Shoes</td>\n",
       "      <td>250</td>\n",
       "      <td>aaaaa111115</td>\n",
       "      <td>black</td>\n",
       "      <td>153</td>\n",
       "      <td>-63.0</td>\n",
       "      <td>Valentino/Shoes</td>\n",
       "    </tr>\n",
       "    <tr>\n",
       "      <th>...</th>\n",
       "      <td>...</td>\n",
       "      <td>...</td>\n",
       "      <td>...</td>\n",
       "      <td>...</td>\n",
       "      <td>...</td>\n",
       "      <td>...</td>\n",
       "      <td>...</td>\n",
       "      <td>...</td>\n",
       "    </tr>\n",
       "    <tr>\n",
       "      <th>70</th>\n",
       "      <td>Stone Island</td>\n",
       "      <td>Bags</td>\n",
       "      <td>164</td>\n",
       "      <td>sssss111131</td>\n",
       "      <td>red</td>\n",
       "      <td>165</td>\n",
       "      <td>1.0</td>\n",
       "      <td>Stone Island/Bags</td>\n",
       "    </tr>\n",
       "    <tr>\n",
       "      <th>71</th>\n",
       "      <td>Stone Island</td>\n",
       "      <td>Bags</td>\n",
       "      <td>158</td>\n",
       "      <td>sssss111132</td>\n",
       "      <td>red</td>\n",
       "      <td>196</td>\n",
       "      <td>19.0</td>\n",
       "      <td>Stone Island/Bags</td>\n",
       "    </tr>\n",
       "    <tr>\n",
       "      <th>72</th>\n",
       "      <td>Stone Island</td>\n",
       "      <td>Bags</td>\n",
       "      <td>194</td>\n",
       "      <td>sssss111133</td>\n",
       "      <td>red</td>\n",
       "      <td>236</td>\n",
       "      <td>18.0</td>\n",
       "      <td>Stone Island/Bags</td>\n",
       "    </tr>\n",
       "    <tr>\n",
       "      <th>73</th>\n",
       "      <td>Stone Island</td>\n",
       "      <td>Bags</td>\n",
       "      <td>256</td>\n",
       "      <td>sssss111134</td>\n",
       "      <td>red</td>\n",
       "      <td>222</td>\n",
       "      <td>-15.0</td>\n",
       "      <td>Stone Island/Bags</td>\n",
       "    </tr>\n",
       "    <tr>\n",
       "      <th>74</th>\n",
       "      <td>Stone Island</td>\n",
       "      <td>Bags</td>\n",
       "      <td>205</td>\n",
       "      <td>sssss111135</td>\n",
       "      <td>red</td>\n",
       "      <td>275</td>\n",
       "      <td>25.0</td>\n",
       "      <td>Stone Island/Bags</td>\n",
       "    </tr>\n",
       "  </tbody>\n",
       "</table>\n",
       "<p>75 rows × 8 columns</p>\n",
       "</div>"
      ],
      "text/plain": [
       "           brand Category  price      item_id color_id  current price  \\\n",
       "0      Valentino    Shoes    167  aaaaa111111    black            247   \n",
       "1      Valentino    Shoes    188  aaaaa111112    black            161   \n",
       "2      Valentino    Shoes    184  aaaaa111113    black            234   \n",
       "3      Valentino    Shoes    196  aaaaa111114    black            167   \n",
       "4      Valentino    Shoes    250  aaaaa111115    black            153   \n",
       "..           ...      ...    ...          ...      ...            ...   \n",
       "70  Stone Island     Bags    164  sssss111131      red            165   \n",
       "71  Stone Island     Bags    158  sssss111132      red            196   \n",
       "72  Stone Island     Bags    194  sssss111133      red            236   \n",
       "73  Stone Island     Bags    256  sssss111134      red            222   \n",
       "74  Stone Island     Bags    205  sssss111135      red            275   \n",
       "\n",
       "    persent_diff          brand_cat  \n",
       "0           32.0    Valentino/Shoes  \n",
       "1          -17.0    Valentino/Shoes  \n",
       "2           21.0    Valentino/Shoes  \n",
       "3          -17.0    Valentino/Shoes  \n",
       "4          -63.0    Valentino/Shoes  \n",
       "..           ...                ...  \n",
       "70           1.0  Stone Island/Bags  \n",
       "71          19.0  Stone Island/Bags  \n",
       "72          18.0  Stone Island/Bags  \n",
       "73         -15.0  Stone Island/Bags  \n",
       "74          25.0  Stone Island/Bags  \n",
       "\n",
       "[75 rows x 8 columns]"
      ]
     },
     "metadata": {},
     "output_type": "display_data"
    }
   ],
   "source": [
    "df_merged[(df_merged['brand'] == 'Brioni') & (df_merged['Category'] == 'Shoes')]\n",
    "\n",
    "df_merged['brand_cat'] = df_merged['brand'] + '/' + df_merged['Category']\n"
   ]
  },
  {
   "cell_type": "code",
   "execution_count": 127,
   "metadata": {},
   "outputs": [
    {
     "data": {
      "application/vnd.plotly.v1+json": {
       "config": {
        "plotlyServerURL": "https://plot.ly"
       },
       "data": [
        {
         "alignmentgroup": "True",
         "hovertemplate": "brand_cat=%{y}<br>persent_diff=%{x}<extra></extra>",
         "legendgroup": "Valentino/Shoes",
         "marker": {
          "color": "#636efa"
         },
         "name": "Valentino/Shoes",
         "notched": false,
         "offsetgroup": "Valentino/Shoes",
         "orientation": "h",
         "showlegend": true,
         "type": "box",
         "x": [
          32,
          -17,
          21,
          -17,
          -63,
          28,
          -29,
          39,
          6,
          30,
          41,
          5,
          -68,
          -9
         ],
         "x0": " ",
         "xaxis": "x",
         "y": [
          "Valentino/Shoes",
          "Valentino/Shoes",
          "Valentino/Shoes",
          "Valentino/Shoes",
          "Valentino/Shoes",
          "Valentino/Shoes",
          "Valentino/Shoes",
          "Valentino/Shoes",
          "Valentino/Shoes",
          "Valentino/Shoes",
          "Valentino/Shoes",
          "Valentino/Shoes",
          "Valentino/Shoes",
          "Valentino/Shoes"
         ],
         "y0": " ",
         "yaxis": "y"
        },
        {
         "alignmentgroup": "True",
         "hovertemplate": "brand_cat=%{y}<br>persent_diff=%{x}<extra></extra>",
         "legendgroup": "Valentino/Bags",
         "marker": {
          "color": "#EF553B"
         },
         "name": "Valentino/Bags",
         "notched": false,
         "offsetgroup": "Valentino/Bags",
         "orientation": "h",
         "showlegend": true,
         "type": "box",
         "x": [
          8,
          3,
          -44,
          -13,
          7,
          40,
          -35,
          42,
          12,
          -4,
          -47
         ],
         "x0": " ",
         "xaxis": "x",
         "y": [
          "Valentino/Bags",
          "Valentino/Bags",
          "Valentino/Bags",
          "Valentino/Bags",
          "Valentino/Bags",
          "Valentino/Bags",
          "Valentino/Bags",
          "Valentino/Bags",
          "Valentino/Bags",
          "Valentino/Bags",
          "Valentino/Bags"
         ],
         "y0": " ",
         "yaxis": "y"
        },
        {
         "alignmentgroup": "True",
         "hovertemplate": "brand_cat=%{y}<br>persent_diff=%{x}<extra></extra>",
         "legendgroup": "Brioni/Shoes",
         "marker": {
          "color": "#00cc96"
         },
         "name": "Brioni/Shoes",
         "notched": false,
         "offsetgroup": "Brioni/Shoes",
         "orientation": "h",
         "showlegend": true,
         "type": "box",
         "x": [
          -6,
          -15,
          -14,
          -18,
          -9,
          33,
          -47,
          30,
          4,
          34,
          -10,
          4,
          4,
          -63
         ],
         "x0": " ",
         "xaxis": "x",
         "y": [
          "Brioni/Shoes",
          "Brioni/Shoes",
          "Brioni/Shoes",
          "Brioni/Shoes",
          "Brioni/Shoes",
          "Brioni/Shoes",
          "Brioni/Shoes",
          "Brioni/Shoes",
          "Brioni/Shoes",
          "Brioni/Shoes",
          "Brioni/Shoes",
          "Brioni/Shoes",
          "Brioni/Shoes",
          "Brioni/Shoes"
         ],
         "y0": " ",
         "yaxis": "y"
        },
        {
         "alignmentgroup": "True",
         "hovertemplate": "brand_cat=%{y}<br>persent_diff=%{x}<extra></extra>",
         "legendgroup": "Brioni/Bags",
         "marker": {
          "color": "#ab63fa"
         },
         "name": "Brioni/Bags",
         "notched": false,
         "offsetgroup": "Brioni/Bags",
         "orientation": "h",
         "showlegend": true,
         "type": "box",
         "x": [
          -18,
          18,
          16,
          -33,
          -8,
          14,
          -64,
          9,
          -29,
          13,
          36
         ],
         "x0": " ",
         "xaxis": "x",
         "y": [
          "Brioni/Bags",
          "Brioni/Bags",
          "Brioni/Bags",
          "Brioni/Bags",
          "Brioni/Bags",
          "Brioni/Bags",
          "Brioni/Bags",
          "Brioni/Bags",
          "Brioni/Bags",
          "Brioni/Bags",
          "Brioni/Bags"
         ],
         "y0": " ",
         "yaxis": "y"
        },
        {
         "alignmentgroup": "True",
         "hovertemplate": "brand_cat=%{y}<br>persent_diff=%{x}<extra></extra>",
         "legendgroup": "Stone Island/Shoes",
         "marker": {
          "color": "#FFA15A"
         },
         "name": "Stone Island/Shoes",
         "notched": false,
         "offsetgroup": "Stone Island/Shoes",
         "orientation": "h",
         "showlegend": true,
         "type": "box",
         "x": [
          -21,
          27,
          24,
          4,
          -5,
          -56,
          -17,
          -18,
          29,
          -34,
          -39,
          5,
          31,
          13
         ],
         "x0": " ",
         "xaxis": "x",
         "y": [
          "Stone Island/Shoes",
          "Stone Island/Shoes",
          "Stone Island/Shoes",
          "Stone Island/Shoes",
          "Stone Island/Shoes",
          "Stone Island/Shoes",
          "Stone Island/Shoes",
          "Stone Island/Shoes",
          "Stone Island/Shoes",
          "Stone Island/Shoes",
          "Stone Island/Shoes",
          "Stone Island/Shoes",
          "Stone Island/Shoes",
          "Stone Island/Shoes"
         ],
         "y0": " ",
         "yaxis": "y"
        },
        {
         "alignmentgroup": "True",
         "hovertemplate": "brand_cat=%{y}<br>persent_diff=%{x}<extra></extra>",
         "legendgroup": "Stone Island/Bags",
         "marker": {
          "color": "#19d3f3"
         },
         "name": "Stone Island/Bags",
         "notched": false,
         "offsetgroup": "Stone Island/Bags",
         "orientation": "h",
         "showlegend": true,
         "type": "box",
         "x": [
          11,
          -60,
          32,
          7,
          -9,
          -18,
          1,
          19,
          18,
          -15,
          25
         ],
         "x0": " ",
         "xaxis": "x",
         "y": [
          "Stone Island/Bags",
          "Stone Island/Bags",
          "Stone Island/Bags",
          "Stone Island/Bags",
          "Stone Island/Bags",
          "Stone Island/Bags",
          "Stone Island/Bags",
          "Stone Island/Bags",
          "Stone Island/Bags",
          "Stone Island/Bags",
          "Stone Island/Bags"
         ],
         "y0": " ",
         "yaxis": "y"
        }
       ],
       "layout": {
        "boxmode": "overlay",
        "height": 400,
        "legend": {
         "title": {
          "text": "brand_cat"
         },
         "tracegroupgap": 0
        },
        "margin": {
         "t": 60
        },
        "template": {
         "data": {
          "bar": [
           {
            "error_x": {
             "color": "#2a3f5f"
            },
            "error_y": {
             "color": "#2a3f5f"
            },
            "marker": {
             "line": {
              "color": "#E5ECF6",
              "width": 0.5
             },
             "pattern": {
              "fillmode": "overlay",
              "size": 10,
              "solidity": 0.2
             }
            },
            "type": "bar"
           }
          ],
          "barpolar": [
           {
            "marker": {
             "line": {
              "color": "#E5ECF6",
              "width": 0.5
             },
             "pattern": {
              "fillmode": "overlay",
              "size": 10,
              "solidity": 0.2
             }
            },
            "type": "barpolar"
           }
          ],
          "carpet": [
           {
            "aaxis": {
             "endlinecolor": "#2a3f5f",
             "gridcolor": "white",
             "linecolor": "white",
             "minorgridcolor": "white",
             "startlinecolor": "#2a3f5f"
            },
            "baxis": {
             "endlinecolor": "#2a3f5f",
             "gridcolor": "white",
             "linecolor": "white",
             "minorgridcolor": "white",
             "startlinecolor": "#2a3f5f"
            },
            "type": "carpet"
           }
          ],
          "choropleth": [
           {
            "colorbar": {
             "outlinewidth": 0,
             "ticks": ""
            },
            "type": "choropleth"
           }
          ],
          "contour": [
           {
            "colorbar": {
             "outlinewidth": 0,
             "ticks": ""
            },
            "colorscale": [
             [
              0,
              "#0d0887"
             ],
             [
              0.1111111111111111,
              "#46039f"
             ],
             [
              0.2222222222222222,
              "#7201a8"
             ],
             [
              0.3333333333333333,
              "#9c179e"
             ],
             [
              0.4444444444444444,
              "#bd3786"
             ],
             [
              0.5555555555555556,
              "#d8576b"
             ],
             [
              0.6666666666666666,
              "#ed7953"
             ],
             [
              0.7777777777777778,
              "#fb9f3a"
             ],
             [
              0.8888888888888888,
              "#fdca26"
             ],
             [
              1,
              "#f0f921"
             ]
            ],
            "type": "contour"
           }
          ],
          "contourcarpet": [
           {
            "colorbar": {
             "outlinewidth": 0,
             "ticks": ""
            },
            "type": "contourcarpet"
           }
          ],
          "heatmap": [
           {
            "colorbar": {
             "outlinewidth": 0,
             "ticks": ""
            },
            "colorscale": [
             [
              0,
              "#0d0887"
             ],
             [
              0.1111111111111111,
              "#46039f"
             ],
             [
              0.2222222222222222,
              "#7201a8"
             ],
             [
              0.3333333333333333,
              "#9c179e"
             ],
             [
              0.4444444444444444,
              "#bd3786"
             ],
             [
              0.5555555555555556,
              "#d8576b"
             ],
             [
              0.6666666666666666,
              "#ed7953"
             ],
             [
              0.7777777777777778,
              "#fb9f3a"
             ],
             [
              0.8888888888888888,
              "#fdca26"
             ],
             [
              1,
              "#f0f921"
             ]
            ],
            "type": "heatmap"
           }
          ],
          "heatmapgl": [
           {
            "colorbar": {
             "outlinewidth": 0,
             "ticks": ""
            },
            "colorscale": [
             [
              0,
              "#0d0887"
             ],
             [
              0.1111111111111111,
              "#46039f"
             ],
             [
              0.2222222222222222,
              "#7201a8"
             ],
             [
              0.3333333333333333,
              "#9c179e"
             ],
             [
              0.4444444444444444,
              "#bd3786"
             ],
             [
              0.5555555555555556,
              "#d8576b"
             ],
             [
              0.6666666666666666,
              "#ed7953"
             ],
             [
              0.7777777777777778,
              "#fb9f3a"
             ],
             [
              0.8888888888888888,
              "#fdca26"
             ],
             [
              1,
              "#f0f921"
             ]
            ],
            "type": "heatmapgl"
           }
          ],
          "histogram": [
           {
            "marker": {
             "pattern": {
              "fillmode": "overlay",
              "size": 10,
              "solidity": 0.2
             }
            },
            "type": "histogram"
           }
          ],
          "histogram2d": [
           {
            "colorbar": {
             "outlinewidth": 0,
             "ticks": ""
            },
            "colorscale": [
             [
              0,
              "#0d0887"
             ],
             [
              0.1111111111111111,
              "#46039f"
             ],
             [
              0.2222222222222222,
              "#7201a8"
             ],
             [
              0.3333333333333333,
              "#9c179e"
             ],
             [
              0.4444444444444444,
              "#bd3786"
             ],
             [
              0.5555555555555556,
              "#d8576b"
             ],
             [
              0.6666666666666666,
              "#ed7953"
             ],
             [
              0.7777777777777778,
              "#fb9f3a"
             ],
             [
              0.8888888888888888,
              "#fdca26"
             ],
             [
              1,
              "#f0f921"
             ]
            ],
            "type": "histogram2d"
           }
          ],
          "histogram2dcontour": [
           {
            "colorbar": {
             "outlinewidth": 0,
             "ticks": ""
            },
            "colorscale": [
             [
              0,
              "#0d0887"
             ],
             [
              0.1111111111111111,
              "#46039f"
             ],
             [
              0.2222222222222222,
              "#7201a8"
             ],
             [
              0.3333333333333333,
              "#9c179e"
             ],
             [
              0.4444444444444444,
              "#bd3786"
             ],
             [
              0.5555555555555556,
              "#d8576b"
             ],
             [
              0.6666666666666666,
              "#ed7953"
             ],
             [
              0.7777777777777778,
              "#fb9f3a"
             ],
             [
              0.8888888888888888,
              "#fdca26"
             ],
             [
              1,
              "#f0f921"
             ]
            ],
            "type": "histogram2dcontour"
           }
          ],
          "mesh3d": [
           {
            "colorbar": {
             "outlinewidth": 0,
             "ticks": ""
            },
            "type": "mesh3d"
           }
          ],
          "parcoords": [
           {
            "line": {
             "colorbar": {
              "outlinewidth": 0,
              "ticks": ""
             }
            },
            "type": "parcoords"
           }
          ],
          "pie": [
           {
            "automargin": true,
            "type": "pie"
           }
          ],
          "scatter": [
           {
            "fillpattern": {
             "fillmode": "overlay",
             "size": 10,
             "solidity": 0.2
            },
            "type": "scatter"
           }
          ],
          "scatter3d": [
           {
            "line": {
             "colorbar": {
              "outlinewidth": 0,
              "ticks": ""
             }
            },
            "marker": {
             "colorbar": {
              "outlinewidth": 0,
              "ticks": ""
             }
            },
            "type": "scatter3d"
           }
          ],
          "scattercarpet": [
           {
            "marker": {
             "colorbar": {
              "outlinewidth": 0,
              "ticks": ""
             }
            },
            "type": "scattercarpet"
           }
          ],
          "scattergeo": [
           {
            "marker": {
             "colorbar": {
              "outlinewidth": 0,
              "ticks": ""
             }
            },
            "type": "scattergeo"
           }
          ],
          "scattergl": [
           {
            "marker": {
             "colorbar": {
              "outlinewidth": 0,
              "ticks": ""
             }
            },
            "type": "scattergl"
           }
          ],
          "scattermapbox": [
           {
            "marker": {
             "colorbar": {
              "outlinewidth": 0,
              "ticks": ""
             }
            },
            "type": "scattermapbox"
           }
          ],
          "scatterpolar": [
           {
            "marker": {
             "colorbar": {
              "outlinewidth": 0,
              "ticks": ""
             }
            },
            "type": "scatterpolar"
           }
          ],
          "scatterpolargl": [
           {
            "marker": {
             "colorbar": {
              "outlinewidth": 0,
              "ticks": ""
             }
            },
            "type": "scatterpolargl"
           }
          ],
          "scatterternary": [
           {
            "marker": {
             "colorbar": {
              "outlinewidth": 0,
              "ticks": ""
             }
            },
            "type": "scatterternary"
           }
          ],
          "surface": [
           {
            "colorbar": {
             "outlinewidth": 0,
             "ticks": ""
            },
            "colorscale": [
             [
              0,
              "#0d0887"
             ],
             [
              0.1111111111111111,
              "#46039f"
             ],
             [
              0.2222222222222222,
              "#7201a8"
             ],
             [
              0.3333333333333333,
              "#9c179e"
             ],
             [
              0.4444444444444444,
              "#bd3786"
             ],
             [
              0.5555555555555556,
              "#d8576b"
             ],
             [
              0.6666666666666666,
              "#ed7953"
             ],
             [
              0.7777777777777778,
              "#fb9f3a"
             ],
             [
              0.8888888888888888,
              "#fdca26"
             ],
             [
              1,
              "#f0f921"
             ]
            ],
            "type": "surface"
           }
          ],
          "table": [
           {
            "cells": {
             "fill": {
              "color": "#EBF0F8"
             },
             "line": {
              "color": "white"
             }
            },
            "header": {
             "fill": {
              "color": "#C8D4E3"
             },
             "line": {
              "color": "white"
             }
            },
            "type": "table"
           }
          ]
         },
         "layout": {
          "annotationdefaults": {
           "arrowcolor": "#2a3f5f",
           "arrowhead": 0,
           "arrowwidth": 1
          },
          "autotypenumbers": "strict",
          "coloraxis": {
           "colorbar": {
            "outlinewidth": 0,
            "ticks": ""
           }
          },
          "colorscale": {
           "diverging": [
            [
             0,
             "#8e0152"
            ],
            [
             0.1,
             "#c51b7d"
            ],
            [
             0.2,
             "#de77ae"
            ],
            [
             0.3,
             "#f1b6da"
            ],
            [
             0.4,
             "#fde0ef"
            ],
            [
             0.5,
             "#f7f7f7"
            ],
            [
             0.6,
             "#e6f5d0"
            ],
            [
             0.7,
             "#b8e186"
            ],
            [
             0.8,
             "#7fbc41"
            ],
            [
             0.9,
             "#4d9221"
            ],
            [
             1,
             "#276419"
            ]
           ],
           "sequential": [
            [
             0,
             "#0d0887"
            ],
            [
             0.1111111111111111,
             "#46039f"
            ],
            [
             0.2222222222222222,
             "#7201a8"
            ],
            [
             0.3333333333333333,
             "#9c179e"
            ],
            [
             0.4444444444444444,
             "#bd3786"
            ],
            [
             0.5555555555555556,
             "#d8576b"
            ],
            [
             0.6666666666666666,
             "#ed7953"
            ],
            [
             0.7777777777777778,
             "#fb9f3a"
            ],
            [
             0.8888888888888888,
             "#fdca26"
            ],
            [
             1,
             "#f0f921"
            ]
           ],
           "sequentialminus": [
            [
             0,
             "#0d0887"
            ],
            [
             0.1111111111111111,
             "#46039f"
            ],
            [
             0.2222222222222222,
             "#7201a8"
            ],
            [
             0.3333333333333333,
             "#9c179e"
            ],
            [
             0.4444444444444444,
             "#bd3786"
            ],
            [
             0.5555555555555556,
             "#d8576b"
            ],
            [
             0.6666666666666666,
             "#ed7953"
            ],
            [
             0.7777777777777778,
             "#fb9f3a"
            ],
            [
             0.8888888888888888,
             "#fdca26"
            ],
            [
             1,
             "#f0f921"
            ]
           ]
          },
          "colorway": [
           "#636efa",
           "#EF553B",
           "#00cc96",
           "#ab63fa",
           "#FFA15A",
           "#19d3f3",
           "#FF6692",
           "#B6E880",
           "#FF97FF",
           "#FECB52"
          ],
          "font": {
           "color": "#2a3f5f"
          },
          "geo": {
           "bgcolor": "white",
           "lakecolor": "white",
           "landcolor": "#E5ECF6",
           "showlakes": true,
           "showland": true,
           "subunitcolor": "white"
          },
          "hoverlabel": {
           "align": "left"
          },
          "hovermode": "closest",
          "mapbox": {
           "style": "light"
          },
          "paper_bgcolor": "white",
          "plot_bgcolor": "#E5ECF6",
          "polar": {
           "angularaxis": {
            "gridcolor": "white",
            "linecolor": "white",
            "ticks": ""
           },
           "bgcolor": "#E5ECF6",
           "radialaxis": {
            "gridcolor": "white",
            "linecolor": "white",
            "ticks": ""
           }
          },
          "scene": {
           "xaxis": {
            "backgroundcolor": "#E5ECF6",
            "gridcolor": "white",
            "gridwidth": 2,
            "linecolor": "white",
            "showbackground": true,
            "ticks": "",
            "zerolinecolor": "white"
           },
           "yaxis": {
            "backgroundcolor": "#E5ECF6",
            "gridcolor": "white",
            "gridwidth": 2,
            "linecolor": "white",
            "showbackground": true,
            "ticks": "",
            "zerolinecolor": "white"
           },
           "zaxis": {
            "backgroundcolor": "#E5ECF6",
            "gridcolor": "white",
            "gridwidth": 2,
            "linecolor": "white",
            "showbackground": true,
            "ticks": "",
            "zerolinecolor": "white"
           }
          },
          "shapedefaults": {
           "line": {
            "color": "#2a3f5f"
           }
          },
          "ternary": {
           "aaxis": {
            "gridcolor": "white",
            "linecolor": "white",
            "ticks": ""
           },
           "baxis": {
            "gridcolor": "white",
            "linecolor": "white",
            "ticks": ""
           },
           "bgcolor": "#E5ECF6",
           "caxis": {
            "gridcolor": "white",
            "linecolor": "white",
            "ticks": ""
           }
          },
          "title": {
           "x": 0.05
          },
          "xaxis": {
           "automargin": true,
           "gridcolor": "white",
           "linecolor": "white",
           "ticks": "",
           "title": {
            "standoff": 15
           },
           "zerolinecolor": "white",
           "zerolinewidth": 2
          },
          "yaxis": {
           "automargin": true,
           "gridcolor": "white",
           "linecolor": "white",
           "ticks": "",
           "title": {
            "standoff": 15
           },
           "zerolinecolor": "white",
           "zerolinewidth": 2
          }
         }
        },
        "width": 800,
        "xaxis": {
         "anchor": "y",
         "domain": [
          0,
          1
         ],
         "title": {
          "text": "persent_diff"
         }
        },
        "yaxis": {
         "anchor": "x",
         "categoryarray": [
          "Stone Island/Bags",
          "Stone Island/Shoes",
          "Brioni/Bags",
          "Brioni/Shoes",
          "Valentino/Bags",
          "Valentino/Shoes"
         ],
         "categoryorder": "array",
         "domain": [
          0,
          1
         ],
         "title": {
          "text": "brand_cat"
         }
        }
       }
      }
     },
     "metadata": {},
     "output_type": "display_data"
    }
   ],
   "source": [
    "box3 = px.box(\n",
    "    data_frame = df_merged,\n",
    "    x = 'persent_diff',\n",
    "    y = 'brand_cat',\n",
    "    width = 800,\n",
    "    height = 400,\n",
    "    color='brand_cat'\n",
    "    )\n",
    "\n",
    "box3.show()"
   ]
  }
 ],
 "metadata": {
  "kernelspec": {
   "display_name": "Python 3",
   "language": "python",
   "name": "python3"
  },
  "language_info": {
   "codemirror_mode": {
    "name": "ipython",
    "version": 3
   },
   "file_extension": ".py",
   "mimetype": "text/x-python",
   "name": "python",
   "nbconvert_exporter": "python",
   "pygments_lexer": "ipython3",
   "version": "3.10.9"
  },
  "orig_nbformat": 4,
  "vscode": {
   "interpreter": {
    "hash": "cc2a200e1e6dab10c4dc3986f0e7a998296447c993c26561a1bd050a849d8214"
   }
  }
 },
 "nbformat": 4,
 "nbformat_minor": 2
}
