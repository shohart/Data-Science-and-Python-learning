{
 "cells": [
  {
   "cell_type": "code",
   "execution_count": 6,
   "metadata": {},
   "outputs": [
    {
     "name": "stdout",
     "output_type": "stream",
     "text": [
      "Total dupes: 10\n",
      "New length of DF: 768\n"
     ]
    }
   ],
   "source": [
    "import pandas as pd\n",
    "import numpy as np\n",
    "import ds_functions as dsf\n",
    "\n",
    "\n",
    "diabetes = pd.read_csv('data/diabetes_data.csv')\n",
    "diabetes.head()\n",
    "\n",
    "mask = diabetes.duplicated(subset=list(diabetes.columns))\n",
    "diabetes_duplicates = diabetes[mask]\n",
    "print(f'Total dupes: {diabetes_duplicates.shape[0]}')\n",
    "\n",
    "diabetes_dedupped = diabetes.drop_duplicates(subset=list(diabetes.columns))\n",
    "print(f'New length of DF: {diabetes_dedupped.shape[0]}')"
   ]
  },
  {
   "cell_type": "code",
   "execution_count": 7,
   "metadata": {},
   "outputs": [
    {
     "name": "stdout",
     "output_type": "stream",
     "text": [
      "Gender: 100.0% одинаковых значений\n",
      "Возвращаю список неинформативных столбцов...\n",
      "Result info cols count:9\n"
     ]
    }
   ],
   "source": [
    "low_info_cols = dsf.uninform_finder(diabetes_dedupped)\n",
    "info_diabetes = diabetes_dedupped.drop(low_info_cols,axis=1)\n",
    "\n",
    "print(f'Result info cols count:{info_diabetes.shape[1]}')\n"
   ]
  },
  {
   "cell_type": "code",
   "execution_count": 12,
   "metadata": {},
   "outputs": [
    {
     "data": {
      "text/plain": [
       "False    0.51\n",
       "True     0.49\n",
       "Name: Insulin, dtype: float64"
      ]
     },
     "execution_count": 12,
     "metadata": {},
     "output_type": "execute_result"
    }
   ],
   "source": [
    "info_diabetes.head()\n",
    "\n",
    "cols_to_replace = ['Glucose', 'BloodPressure', 'SkinThickness', 'Insulin', 'BMI']\n",
    "info_diabetes[cols_to_replace] = info_diabetes[cols_to_replace].replace({'0':np.nan, 0:np.nan})\n",
    "info_diabetes['Insulin'].isnull().value_counts(normalize=True).round(2)"
   ]
  },
  {
   "cell_type": "code",
   "execution_count": 15,
   "metadata": {},
   "outputs": [
    {
     "data": {
      "text/plain": [
       "Index(['Pregnancies', 'Glucose', 'BloodPressure', 'SkinThickness', 'BMI',\n",
       "       'DiabetesPedigreeFunction', 'Age', 'Outcome'],\n",
       "      dtype='object')"
      ]
     },
     "execution_count": 15,
     "metadata": {},
     "output_type": "execute_result"
    }
   ],
   "source": [
    "info_diabetes_dropped = info_diabetes.copy()\n",
    "thresh = info_diabetes_dropped.shape[0] * 0.7\n",
    "info_diabetes_dropped = info_diabetes_dropped.dropna(thresh=thresh, axis=1)\n",
    "info_diabetes_dropped.columns.shape[0]\n"
   ]
  },
  {
   "cell_type": "code",
   "execution_count": 16,
   "metadata": {},
   "outputs": [
    {
     "data": {
      "text/plain": [
       "761"
      ]
     },
     "execution_count": 16,
     "metadata": {},
     "output_type": "execute_result"
    }
   ],
   "source": [
    "thresh2 = info_diabetes_dropped.shape[1] - 2\n",
    "info_diabetes_dropped = info_diabetes_dropped.dropna(thresh=thresh2, axis=0)\n",
    "info_diabetes_dropped.shape[0]"
   ]
  },
  {
   "cell_type": "code",
   "execution_count": 29,
   "metadata": {},
   "outputs": [
    {
     "data": {
      "text/plain": [
       "29.1"
      ]
     },
     "execution_count": 29,
     "metadata": {},
     "output_type": "execute_result"
    }
   ],
   "source": [
    "info_diabetes_dropped = info_diabetes_dropped.fillna(info_diabetes_dropped.median())\n",
    "info_diabetes_dropped['SkinThickness'].mean().round(1)            "
   ]
  },
  {
   "cell_type": "code",
   "execution_count": 34,
   "metadata": {},
   "outputs": [
    {
     "name": "stdout",
     "output_type": "stream",
     "text": [
      "Tjuki outliers number:87\n",
      "Z scale outliers:4\n",
      "Tjuki outliers DPF number:29\n",
      "Tjuki outliers DPF number LOG:0\n"
     ]
    }
   ],
   "source": [
    "outliers, cleaned = dsf.outliers_iqr_mod(info_diabetes_dropped, 'SkinThickness')\n",
    "print(f'Tjuki outliers number:{outliers.shape[0]}')\n",
    "\n",
    "outliers, cleaned = dsf.outliers_z_score(info_diabetes_dropped, 'SkinThickness', log_scale=False)\n",
    "print(f'Z scale outliers:{outliers.shape[0]}')\n",
    "\n",
    "outliers, cleaned = dsf.outliers_iqr_mod(info_diabetes_dropped, 'DiabetesPedigreeFunction', log_scale=False)\n",
    "print(f'Tjuki outliers DPF number:{outliers.shape[0]}')\n",
    "\n",
    "outliers, cleaned = dsf.outliers_iqr_mod(info_diabetes_dropped, 'DiabetesPedigreeFunction', log_scale=True)\n",
    "print(f'Tjuki outliers DPF number LOG:{outliers.shape[0]}')\n"
   ]
  }
 ],
 "metadata": {
  "kernelspec": {
   "display_name": "Python 3",
   "language": "python",
   "name": "python3"
  },
  "language_info": {
   "codemirror_mode": {
    "name": "ipython",
    "version": 3
   },
   "file_extension": ".py",
   "mimetype": "text/x-python",
   "name": "python",
   "nbconvert_exporter": "python",
   "pygments_lexer": "ipython3",
   "version": "3.10.9"
  },
  "orig_nbformat": 4,
  "vscode": {
   "interpreter": {
    "hash": "cc2a200e1e6dab10c4dc3986f0e7a998296447c993c26561a1bd050a849d8214"
   }
  }
 },
 "nbformat": 4,
 "nbformat_minor": 2
}
