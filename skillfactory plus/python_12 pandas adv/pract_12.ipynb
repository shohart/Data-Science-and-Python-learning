{
 "cells": [
  {
   "cell_type": "code",
   "execution_count": null,
   "metadata": {},
   "outputs": [],
   "source": [
    "import pandas as pd\n",
    "import os\n",
    "\n",
    "def concat_users_files(path):\n",
    "    \"\"\"\n",
    "    Вам необходимо написать функцию concat_user_files(path), параметром которой является path - путь до директории. \n",
    "    Функция должна объединить информацию из предоставленных вам файлов в один DataFrame и вернуть его. \n",
    "    Не забудьте обновить индексы результирующей таблицы после объединения.\n",
    "    Учтите тот момент, что в результате объединения могут возникнуть дубликаты, от которых необходимо будет избавиться. \n",
    "    \"\"\"\n",
    "    \n",
    "    file_list = os.listdir(path)\n",
    "    file_list.sort()\n",
    "    df_list = [0]*len(file_list)\n",
    "    for i, e in enumerate(file_list):\n",
    "        df_list[i] = pd.read_csv(path+e)\n",
    "    result = pd.concat(df_list, ignore_index=True)\n",
    "    result = result.drop_duplicates().reset_index()\n",
    "    \n",
    "    return result\n",
    "    \n",
    "##print(concat_users_files('./Root/users'))    \n",
    "\n",
    "\n",
    "if __name__ == '__main__':\n",
    "    data = concat_users_files('./Root/users/')\n"
   ]
  },
  {
   "cell_type": "code",
   "execution_count": null,
   "metadata": {},
   "outputs": [],
   "source": [
    "import pandas as pd\n",
    "import os\n",
    "\n",
    "def concat_users_files(path):\n",
    "    \"\"\"\n",
    "    Вам необходимо написать функцию concat_user_files(path), параметром которой является path - путь до директории. \n",
    "    Функция должна объединить информацию из предоставленных вам файлов в один DataFrame и вернуть его. \n",
    "    Не забудьте обновить индексы результирующей таблицы после объединения.\n",
    "    Учтите тот момент, что в результате объединения могут возникнуть дубликаты, от которых необходимо будет избавиться. \n",
    "    \"\"\"\n",
    "    result_df = pd.DataFrame()\n",
    "    file_list = os.listdir(path)\n",
    "    file_list.sort()\n",
    "\n",
    "    for f in file_list:\n",
    "        tmp_df = pd.read_csv(path + '/' + f)\n",
    "        result_df = pd.concat([result_df, tmp_df], axis=0, ignore_index=True)\n",
    "\n",
    "    result_df = result_df.drop_duplicates().reset_index()\n",
    "    \n",
    "    return result_df\n",
    "    \n",
    "##print(concat_users_files('./Root/users'))    \n",
    "\n",
    "\n",
    "if __name__ == '__main__':\n",
    "    data = concat_users_files('./Root/users/')\n"
   ]
  },
  {
   "cell_type": "code",
   "execution_count": 9,
   "metadata": {},
   "outputs": [
    {
     "name": "stdout",
     "output_type": "stream",
     "text": [
      "<class 'pandas.core.frame.DataFrame'>\n",
      "RangeIndex: 10 entries, 0 to 9\n",
      "Data columns (total 3 columns):\n",
      " #   Column       Non-Null Count  Dtype \n",
      "---  ------       --------------  ----- \n",
      " 0   item_id      10 non-null     int64 \n",
      " 1   vendor       10 non-null     object\n",
      " 2   stock_count  10 non-null     int64 \n",
      "dtypes: int64(2), object(1)\n",
      "memory usage: 368.0+ bytes\n",
      "<class 'pandas.core.frame.DataFrame'>\n",
      "RangeIndex: 10 entries, 0 to 9\n",
      "Data columns (total 2 columns):\n",
      " #   Column   Non-Null Count  Dtype\n",
      "---  ------   --------------  -----\n",
      " 0   item_id  10 non-null     int64\n",
      " 1   price    10 non-null     int64\n",
      "dtypes: int64(2)\n",
      "memory usage: 288.0 bytes\n",
      "<class 'pandas.core.frame.DataFrame'>\n",
      "Int64Index: 9 entries, 0 to 8\n",
      "Data columns (total 5 columns):\n",
      " #   Column       Non-Null Count  Dtype \n",
      "---  ------       --------------  ----- \n",
      " 0   item_id      9 non-null      int64 \n",
      " 1   vendor       9 non-null      object\n",
      " 2   stock_count  9 non-null      int64 \n",
      " 3   purchase_id  9 non-null      int64 \n",
      " 4   price        9 non-null      int64 \n",
      "dtypes: int64(4), object(1)\n",
      "memory usage: 432.0+ bytes\n",
      "   item_id   vendor  stock_count  purchase_id  price\n",
      "0   417283  Samsung           54          101  13900\n",
      "1   849734       LG           33          101   5330\n",
      "2   132223    Apple          122          101  38200\n",
      "3   573943    Apple           18          112  49990\n",
      "4    19475       LG          102          121   9890\n",
      "5  3294095    Apple           43          145  33000\n",
      "6   382043  Samsung           77          145  67500\n",
      "7   302948  Samsung          143          145  34500\n",
      "8   100132       LG           60          221  11400\n",
      "<class 'pandas.core.frame.DataFrame'>\n",
      "Int64Index: 9 entries, 0 to 8\n",
      "Data columns (total 6 columns):\n",
      " #   Column       Non-Null Count  Dtype \n",
      "---  ------       --------------  ----- \n",
      " 0   item_id      9 non-null      int64 \n",
      " 1   vendor       9 non-null      object\n",
      " 2   stock_count  9 non-null      int64 \n",
      " 3   purchase_id  9 non-null      int64 \n",
      " 4   price        9 non-null      int64 \n",
      " 5   total_cost   9 non-null      int64 \n",
      "dtypes: int64(5), object(1)\n",
      "memory usage: 504.0+ bytes\n"
     ]
    },
    {
     "data": {
      "text/plain": [
       "19729490"
      ]
     },
     "metadata": {},
     "output_type": "display_data"
    }
   ],
   "source": [
    "# Введите свое решение ниже\n",
    "\n",
    "import pandas as pd\n",
    "\n",
    "\n",
    "items_df = pd.DataFrame({\n",
    "    'item_id': [417283, 849734, 132223, 573943, 19475, 3294095, 382043, 302948, 100132, 312394], \n",
    "    'vendor': ['Samsung', 'LG', 'Apple', 'Apple', 'LG', 'Apple', 'Samsung', 'Samsung', 'LG', 'ZTE'],\n",
    "    'stock_count': [54, 33, 122, 18, 102, 43, 77, 143, 60, 19]\n",
    "})\n",
    "\n",
    "purchase_df = pd.DataFrame({\n",
    "    'purchase_id': [101, 101, 101, 112, 121, 145, 145, 145, 145, 221],\n",
    "    'item_id': [417283, 849734, 132223, 573943, 19475, 3294095, 382043, 302948, 103845, 100132], \n",
    "    'price': [13900, 5330, 38200, 49990, 9890, 33000, 67500, 34500, 89900, 11400]\n",
    "})\n",
    "\n",
    "purchase_df.drop(['purchase_id'],axis=1)\n",
    "\n",
    "merged = items_df.merge(\n",
    "    purchase_df,\n",
    "    how='inner',\n",
    "    on='item_id'\n",
    "    )\n",
    "\n",
    "income = (merged['price'] * merged['stock_count']).sum()"
   ]
  }
 ],
 "metadata": {
  "kernelspec": {
   "display_name": "Python 3.10.8 64-bit (microsoft store)",
   "language": "python",
   "name": "python3"
  },
  "language_info": {
   "codemirror_mode": {
    "name": "ipython",
    "version": 3
   },
   "file_extension": ".py",
   "mimetype": "text/x-python",
   "name": "python",
   "nbconvert_exporter": "python",
   "pygments_lexer": "ipython3",
   "version": "3.10.9 (tags/v3.10.9:1dd9be6, Dec  6 2022, 20:01:21) [MSC v.1934 64 bit (AMD64)]"
  },
  "orig_nbformat": 4,
  "vscode": {
   "interpreter": {
    "hash": "f4beabad11aae439222f30d215d307c7e9ce2300a8eb37d39576f728afa677cc"
   }
  }
 },
 "nbformat": 4,
 "nbformat_minor": 2
}
