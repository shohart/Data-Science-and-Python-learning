{
 "cells": [
  {
   "cell_type": "code",
   "execution_count": 4,
   "metadata": {},
   "outputs": [],
   "source": [
    "import pandas as pd\n",
    "\n",
    "\n",
    "df = pd.read_csv('pokemon_data.csv')\n",
    "\n",
    "df_xl = pd.read_excel('pokemon_data.xlsx')\n",
    "\n",
    "df_txt = pd.read_csv('pokemon_data.txt', delimiter='\\t')"
   ]
  },
  {
   "cell_type": "code",
   "execution_count": null,
   "metadata": {},
   "outputs": [],
   "source": [
    "#print(df.columns)\n",
    "\n",
    "df.Name\n",
    "df['Name'][0:5]\n",
    "df[['Name', 'Type 1', \"HP\"]]\n",
    "df.iloc[0:4]\n",
    "df.iloc[2,1]\n",
    "\n",
    "for index, row in df.iterrows():\n",
    "    print(index, row['Name'])\n",
    "    "
   ]
  },
  {
   "cell_type": "code",
   "execution_count": null,
   "metadata": {},
   "outputs": [],
   "source": [
    "df.loc[df['Type 1'] == \"Fire\"]\n",
    "df.describe()"
   ]
  },
  {
   "cell_type": "code",
   "execution_count": null,
   "metadata": {},
   "outputs": [],
   "source": [
    "df.sort_values('Name', ascending=False)\n",
    "df.sort_values(['Type 1', 'HP'], ascending=[1,0])"
   ]
  },
  {
   "cell_type": "code",
   "execution_count": null,
   "metadata": {},
   "outputs": [],
   "source": [
    "df['Total'] = df['HP'] + df['Attack'] + df['Defense'] + df['Sp. Atk'] + df['Sp. Def'] + df['Speed']\n",
    "\n",
    "df = df.drop(columns=['Total'])\n",
    "\n",
    "df['Total'] = df.iloc[:, 4:10].sum(axis=1)\n",
    "cols = list(df.columns)\n",
    "\n",
    "#df = df[['Total,' 'HP', 'Defense']]\n",
    "df = df[cols[0:4] + [cols[-1]] + cols[4:12]]\n",
    "\n",
    "df.head(5)"
   ]
  },
  {
   "cell_type": "code",
   "execution_count": 42,
   "metadata": {},
   "outputs": [],
   "source": [
    "df.to_csv('modified.csv', index=False)\n",
    "df.to_excel('modified.xlsx', index=False)\n",
    "df.to_csv('modified.txt', index=False, sep='\\t')"
   ]
  },
  {
   "cell_type": "code",
   "execution_count": null,
   "metadata": {},
   "outputs": [],
   "source": [
    "from re import T\n",
    "\n",
    "\n",
    "df.loc[(df['Type 1'] == 'Grass') & (df['Type 2'] == 'Poison')] # AND condition\n",
    "df.loc[(df['Type 1'] == 'Grass') | (df['Type 2'] == 'Poison')] # OR type\n",
    "new_df = df.loc[(df['Type 1'] == 'Grass') & (df['Type 2'] == 'Poison') & (df['HP'] > 70)]\n",
    "new_df.to_csv('filtered.csv')\n",
    "\n",
    "new_df.reset_index(drop=True, inplace=True)\n",
    "\n",
    "new_df"
   ]
  },
  {
   "cell_type": "code",
   "execution_count": null,
   "metadata": {},
   "outputs": [],
   "source": [
    "df.loc[~df['Name'].str.contains('Mega')] # not containing substrings\n",
    "\n",
    "import re\n",
    "\n",
    "df.loc[df['Type 1'].str.contains('fire|grass', regex=True, flags=re.I)] # Regular expressions with ignoring casings\n",
    "\n",
    "df.loc[df['Name'].str.contains('^pi[a-z]*', regex=True, flags=re.I)] # Name starting with pi with regular expressions\n"
   ]
  },
  {
   "cell_type": "code",
   "execution_count": null,
   "metadata": {},
   "outputs": [],
   "source": [
    "df.loc[df['Type 1'] == 'Flamer', 'Type 1'] = 'Fire'\n",
    "\n",
    "df"
   ]
  },
  {
   "cell_type": "markdown",
   "metadata": {},
   "source": [
    "***Groupby***"
   ]
  },
  {
   "cell_type": "code",
   "execution_count": null,
   "metadata": {},
   "outputs": [],
   "source": [
    "df = pd.read_csv('modified.csv')\n",
    "df.groupby(['Type 1']).mean().sort_values('Legendary', ascending=False) # Grouping elements by mean"
   ]
  },
  {
   "cell_type": "code",
   "execution_count": null,
   "metadata": {},
   "outputs": [],
   "source": [
    "grouped_df = df.groupby(['Type 1', 'Type 2']).count()['Name'] # counting entryies inside a dataframe\n",
    "grouped_df.to_csv('pokemon_grouped.csv')\n",
    "grouped_df"
   ]
  },
  {
   "cell_type": "markdown",
   "metadata": {},
   "source": [
    "**Large ammount of data**"
   ]
  },
  {
   "cell_type": "code",
   "execution_count": null,
   "metadata": {},
   "outputs": [],
   "source": [
    "for df in pd.read_csv('modified.csv', chunksize=5):\n",
    "    print('CNUNK BORDER')\n",
    "    print(df)"
   ]
  },
  {
   "cell_type": "markdown",
   "metadata": {},
   "source": [
    "***creating a new dataframe with prepared data***"
   ]
  },
  {
   "cell_type": "code",
   "execution_count": null,
   "metadata": {},
   "outputs": [],
   "source": [
    "new_df = pd.DataFrame(columns=df.columns)\n",
    "\n",
    "for df in pd.read_csv('modified.csv', chunksize=6):\n",
    "    results = df.groupby(['Type 1']).count()\n",
    "    new_df = pd.concat([new_df, results])\n",
    "new_df"
   ]
  }
 ],
 "metadata": {
  "kernelspec": {
   "display_name": "Python 3.10.6 64-bit",
   "language": "python",
   "name": "python3"
  },
  "language_info": {
   "codemirror_mode": {
    "name": "ipython",
    "version": 3
   },
   "file_extension": ".py",
   "mimetype": "text/x-python",
   "name": "python",
   "nbconvert_exporter": "python",
   "pygments_lexer": "ipython3",
   "version": "3.10.6"
  },
  "orig_nbformat": 4,
  "vscode": {
   "interpreter": {
    "hash": "95cdb06e919eab5e2c554174537356ac9b55200d1eb6f880dc25de04343a18ea"
   }
  }
 },
 "nbformat": 4,
 "nbformat_minor": 2
}
