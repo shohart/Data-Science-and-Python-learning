{
 "cells": [
  {
   "cell_type": "code",
   "execution_count": 1,
   "metadata": {},
   "outputs": [
    {
     "name": "stdout",
     "output_type": "stream",
     "text": [
      "Order price for max@gmail.com is 100\n",
      "Order price for lova@yandex.ru is 180.0\n",
      "Order price for german@sberbank.ru is 500\n",
      "Order price for german@sberbank.ru is 450.0\n"
     ]
    }
   ],
   "source": [
    "class Client():  \n",
    "    # Базовые данные  \n",
    "    def __init__(self, email, order_num, registration_year):  \n",
    "        self.email = email  \n",
    "        self.order_num = order_num  \n",
    "        self.registration_year = registration_year  \n",
    "        self.discount = 0  \n",
    "          \n",
    "    # Оформление заказа  \n",
    "    def make_order(self, price):  \n",
    "        self.update_discount()  \n",
    "        self.order_num += 1  \n",
    "        # Здесь было бы оформление заказа, но мы просто выведем его цену  \n",
    "        discounted_price = price * (1 - self.discount)   \n",
    "        print(f\"Order price for {self.email} is {discounted_price}\")  \n",
    "              \n",
    "    # Назначение скидки  \n",
    "    def update_discount(self):   \n",
    "        if self.registration_year < 2018 and self.order_num >= 5:  \n",
    "            self.discount = 0.1   \n",
    "              \n",
    "  \n",
    "# Применение  \n",
    "          \n",
    "# Сделаем подобие базы  \n",
    "client_db = [   \n",
    "    Client(\"max@gmail.com\", 2, 2019),  \n",
    "    Client(\"lova@yandex.ru\", 10, 2015),  \n",
    "    Client(\"german@sberbank.ru\", 4, 2017)  \n",
    "]  \n",
    "  \n",
    "  \n",
    "# Сгенерируем заказы  \n",
    "client_db[0].make_order(100)  \n",
    "# => Order price for max@gmail.com is 100  \n",
    "  \n",
    "client_db[1].make_order(200)  \n",
    "# => Order price for lova@yandex.ru is 180.0  \n",
    "  \n",
    "client_db[2].make_order(500)  \n",
    "# => Order price for german@sberbank.ru is 500  \n",
    "  \n",
    "client_db[2].make_order(500)  \n",
    "# => Order price for german@sberbank.ru is 450.0 "
   ]
  },
  {
   "cell_type": "code",
   "execution_count": 2,
   "metadata": {},
   "outputs": [
    {
     "name": "stdout",
     "output_type": "stream",
     "text": [
      "[1.0, 17.0, 4.0, 0.0, 8.0]\n",
      "6.892024376045111\n",
      "4.0\n"
     ]
    }
   ],
   "source": [
    "import statistics  \n",
    "  \n",
    "class DataFrame():  \n",
    "    def __init__(self, column, fill_value=0):  \n",
    "        # Инициализируем атрибуты  \n",
    "        self.column = column  \n",
    "        self.fill_value = fill_value  \n",
    "        # Заполним пропуски  \n",
    "        self.fill_missed()  \n",
    "        # Конвертируем все элементы в числа  \n",
    "        self.to_float()  \n",
    "          \n",
    "    def fill_missed(self):  \n",
    "        for i, value in enumerate(self.column):  \n",
    "            if value is None or value == '':  \n",
    "                self.column[i] = self.fill_value  \n",
    "                  \n",
    "    def to_float(self):  \n",
    "        self.column = [float(value) for value in self.column]  \n",
    "      \n",
    "    def median(self):  \n",
    "        return statistics.median(self.column)  \n",
    "      \n",
    "    def mean(self):  \n",
    "        return statistics.mean(self.column)  \n",
    "      \n",
    "    def deviation(self):  \n",
    "        return statistics.stdev(self.column)  \n",
    "      \n",
    "  \n",
    "      \n",
    "# Воспользуемся классом  \n",
    "df = DataFrame([\"1\", 17, 4, None, 8])  \n",
    "  \n",
    "print(df.column)  \n",
    "# => [1.0, 17.0, 4.0, 0.0, 8.0]  \n",
    "print(df.deviation())  \n",
    "# => 6.89  \n",
    "print(df.median())  \n",
    "# => 4.0  "
   ]
  },
  {
   "cell_type": "code",
   "execution_count": 3,
   "metadata": {},
   "outputs": [
    {
     "name": "stdout",
     "output_type": "stream",
     "text": [
      "{'perfomance': [10, 20, 10], 'clients': {'Romashka': 10, 'Vector': 34}}\n"
     ]
    }
   ],
   "source": [
    "import pickle  \n",
    "from datetime import datetime  \n",
    "from os import path  \n",
    "  \n",
    "class Dumper():  \n",
    "    def __init__(self, archive_dir=\"archive/\"):  \n",
    "        self.archive_dir = archive_dir  \n",
    "          \n",
    "    def dump(self, data):  \n",
    "        # Библиотека pickle позволяет доставать и класть объекты в файл  \n",
    "        with open(self.get_file_name(), 'wb') as file:  \n",
    "            pickle.dump(data, file)  \n",
    "              \n",
    "    def load_for_day(self, day):  \n",
    "        file_name = path.join(self.archive_dir, day + \".pkl\")   \n",
    "        with open(file_name, 'rb') as file:  \n",
    "            sets = pickle.load(file)  \n",
    "        return sets  \n",
    "          \n",
    "    # возвращает корректное имя для файла   \n",
    "    def get_file_name(self):   \n",
    "        today = datetime.now().strftime(\"%y-%m-%d\")   \n",
    "        return path.join(self.archive_dir, today + \".pkl\")  \n",
    "      \n",
    "      \n",
    "# Пример использования  \n",
    "  \n",
    "data = {  \n",
    "    'perfomance': [10, 20, 10],  \n",
    "    'clients': {\"Romashka\": 10, \"Vector\": 34}  \n",
    "}  \n",
    "  \n",
    "  \n",
    "dumper = Dumper()  \n",
    "  \n",
    "# Сохраним данные  \n",
    "dumper.dump(data)  \n",
    "  \n",
    "# Восстановим для сегодняшней даты  \n",
    "file_name = datetime.now().strftime(\"%y-%m-%d\")\n",
    "restored_data = dumper.load_for_day(file_name)\n",
    "print(restored_data)  \n",
    "# => {'perfomance': [10, 20, 10], 'clients': {'Romashka': 10, 'Vector': 34}}  "
   ]
  },
  {
   "cell_type": "code",
   "execution_count": 9,
   "metadata": {},
   "outputs": [
    {
     "data": {
      "text/plain": [
       "None"
      ]
     },
     "metadata": {},
     "output_type": "display_data"
    },
    {
     "data": {
      "text/plain": [
       "'Connection lost'"
      ]
     },
     "metadata": {},
     "output_type": "display_data"
    },
    {
     "data": {
      "text/plain": [
       "'System started'"
      ]
     },
     "metadata": {},
     "output_type": "display_data"
    }
   ],
   "source": [
    "# Введите свое решение ниже\n",
    "\n",
    "\n",
    "class OwnLogger():\n",
    "    def __init__(self):\n",
    "        self.logs = dict.fromkeys(['info', 'warning', 'error', 'all'])\n",
    "        \n",
    "    def log(self, message, level):\n",
    "        self.logs[level] = message\n",
    "        self.logs['all'] = message\n",
    "\n",
    "    def show_last(self, level='all'):\n",
    "        if level == 'all':\n",
    "            return self.logs['all']\n",
    "        elif level == 'error':\n",
    "            return self.logs['error']\n",
    "        elif level == 'info':\n",
    "            return self.logs['info']\n",
    "        elif level == 'warning':\n",
    "            return self.logs['warning']\n",
    "                \n",
    "logger = OwnLogger()\n",
    "logger.log(\"System started\", \"info\")\n",
    "display(logger.show_last(\"error\"))\n",
    "# None\n",
    "# Некоторые интерпретаторы Python могут не выводить None, тогда в этой проверке у вас будет пустая строка\n",
    "logger.log(\"Connection instable\", \"warning\")\n",
    "logger.log(\"Connection lost\", \"error\")\n",
    "\n",
    "display(logger.show_last())\n",
    "# Connection lost\n",
    "display(logger.show_last(\"info\"))\n",
    "# System started\n"
   ]
  },
  {
   "cell_type": "code",
   "execution_count": 11,
   "metadata": {},
   "outputs": [
    {
     "data": {
      "text/plain": [
       "<bound method Dumper.dump of <helpers.dumper.Dumper object at 0x000001FECA230C40>>"
      ]
     },
     "execution_count": 11,
     "metadata": {},
     "output_type": "execute_result"
    }
   ],
   "source": [
    "from helpers.dumper import Dumper\n",
    "\n",
    "dumper = Dumper()\n",
    "\n",
    "dumper.dump"
   ]
  },
  {
   "cell_type": "code",
   "execution_count": 18,
   "metadata": {},
   "outputs": [
    {
     "name": "stdout",
     "output_type": "stream",
     "text": [
      "c:\\Users\\redsh\\Documents\\DScourse\n",
      "c:\\Users\\redsh\\Documents\\DScourse\\test\n"
     ]
    }
   ],
   "source": [
    "import os\n",
    "\n",
    "start_path = os.getcwd()\n",
    "print(start_path)\n",
    "\n",
    "os.chdir(\"..\")\n",
    "os.getcwd()\n",
    "\n",
    "os.listdir()\n",
    "\n",
    "print(os.path.join(start_path, 'test'))"
   ]
  },
  {
   "cell_type": "code",
   "execution_count": 18,
   "metadata": {},
   "outputs": [
    {
     "name": "stdout",
     "output_type": "stream",
     "text": [
      "Path to examine: \n",
      " c:\\Users\\redsh\\Documents\\DScourse\\VSCode\\skillfactory plus\\python_15 OOP \n",
      " ------------------------------- \n",
      " Folders in Path: \n",
      " ['archive', 'helpers'] \n",
      " ------------------------------- \n",
      " Files in Path: \n",
      " ['python_OOP_pract.ipynb'] \n",
      " ------------------------------- \n",
      "\n",
      "Path to examine: \n",
      " c:\\Users\\redsh\\Documents\\DScourse\\VSCode\\skillfactory plus\\python_15 OOP\\archive \n",
      " ------------------------------- \n",
      " Folders in Path: \n",
      " [] \n",
      " ------------------------------- \n",
      " Files in Path: \n",
      " ['22-12-24.pkl'] \n",
      " ------------------------------- \n",
      "\n",
      "Path to examine: \n",
      " c:\\Users\\redsh\\Documents\\DScourse\\VSCode\\skillfactory plus\\python_15 OOP\\helpers \n",
      " ------------------------------- \n",
      " Folders in Path: \n",
      " ['__pycache__'] \n",
      " ------------------------------- \n",
      " Files in Path: \n",
      " ['clients.py', 'data_frame.py', 'dumper.py', '__init__.py'] \n",
      " ------------------------------- \n",
      "\n",
      "Path to examine: \n",
      " c:\\Users\\redsh\\Documents\\DScourse\\VSCode\\skillfactory plus\\python_15 OOP\\helpers\\__pycache__ \n",
      " ------------------------------- \n",
      " Folders in Path: \n",
      " [] \n",
      " ------------------------------- \n",
      " Files in Path: \n",
      " ['dumper.cpython-310.pyc', '__init__.cpython-310.pyc'] \n",
      " ------------------------------- \n",
      "\n",
      "None\n"
     ]
    }
   ],
   "source": [
    "def dir_info(path=None):\n",
    "    path = path if path is not None else os.getcwd()\n",
    "    tree = os.walk(path)\n",
    "    for p, f, i in tree:\n",
    "        print(\n",
    "            'Path to examine:', '\\n', p, '\\n',\n",
    "            '-------------------------------', '\\n',\n",
    "            'Folders in Path:', '\\n', f, '\\n',\n",
    "            '-------------------------------', '\\n',\n",
    "            'Files in Path:', '\\n', i, '\\n',\n",
    "            '-------------------------------', '\\n',\n",
    "            )\n",
    "\n",
    "print(dir_info())"
   ]
  },
  {
   "attachments": {},
   "cell_type": "markdown",
   "metadata": {},
   "source": [
    "### Работа с файлами"
   ]
  },
  {
   "cell_type": "code",
   "execution_count": 26,
   "metadata": {},
   "outputs": [
    {
     "name": "stdout",
     "output_type": "stream",
     "text": [
      "This is a \n",
      "first string!\n",
      "This is a second string!\n",
      "\n"
     ]
    }
   ],
   "source": [
    "# Opening a file\n",
    "f = open('test.txt', 'w', encoding='utf8')\n",
    "\n",
    "# Writing some strings\n",
    "f.write('This is a first string!\\n')\n",
    "f.write('This is a second string!\\n')\n",
    "\n",
    "# Need to close a file!\n",
    "f.close()\n",
    "\n",
    "f = open('test.txt', 'r', encoding='utf8')\n",
    "print(f.read(10))\n",
    "print(f.read())\n",
    "\n",
    "f.close()"
   ]
  },
  {
   "cell_type": "code",
   "execution_count": 2,
   "metadata": {},
   "outputs": [
    {
     "name": "stdout",
     "output_type": "stream",
     "text": [
      "['This is a first string!\\n', 'This is a second string!\\n', 'This is a 3rd string!\\n', 'And there is even a FORTH string!\\n']\n"
     ]
    }
   ],
   "source": [
    "# per-line methods\n",
    "\n",
    "f = open('test.txt', 'a', encoding='utf8')\n",
    "\n",
    "sequence = ['This is a 3rd string!\\n', 'And there is even a FORTH string!\\n']\n",
    "f.writelines(sequence)\n",
    "f.close()\n",
    "\n",
    "f = open('test.txt', 'r', encoding='utf8')\n",
    "\n",
    "print(f.readlines())\n",
    "f.close()"
   ]
  },
  {
   "cell_type": "code",
   "execution_count": 3,
   "metadata": {},
   "outputs": [
    {
     "name": "stdout",
     "output_type": "stream",
     "text": [
      "This is a first string!\n",
      "\n",
      "This\n",
      " is a second string!\n",
      "\n"
     ]
    }
   ],
   "source": [
    "f = open('test.txt', 'r', encoding='utf8')\n",
    "\n",
    "print(f.readline())\n",
    "print(f.read(4))\n",
    "print(f.readline())\n",
    "\n",
    "f.close()"
   ]
  },
  {
   "attachments": {},
   "cell_type": "markdown",
   "metadata": {},
   "source": [
    "### Файл как итератор и метод with"
   ]
  },
  {
   "cell_type": "code",
   "execution_count": 7,
   "metadata": {},
   "outputs": [
    {
     "name": "stdout",
     "output_type": "stream",
     "text": [
      "This is a first string!\n",
      "This is a second string!\n",
      "This is a 3rd string!\n",
      "And there is even a FORTH string!\n"
     ]
    }
   ],
   "source": [
    "f = open('test.txt')\n",
    "for line in f:\n",
    "    print(line, end='')\n",
    "    \n",
    "f.close()\n",
    "\n",
    "with open('test.txt', 'rb') as f:\n",
    "    a = f.read(10)\n",
    "    b = f.read(23)\n",
    "\n",
    "# вызов read на закрытом файле вызовет ошибку.\n",
    "# f.read(3) "
   ]
  },
  {
   "attachments": {},
   "cell_type": "markdown",
   "metadata": {},
   "source": [
    "### Задания на самопровеку"
   ]
  },
  {
   "cell_type": "code",
   "execution_count": 12,
   "metadata": {},
   "outputs": [],
   "source": [
    "# 7.4. \n",
    "\n",
    "input_file = open('input.txt', 'r')\n",
    "output_file = open('output.txt', 'w')\n",
    "\n",
    "for line in input_file:\n",
    "    output_file.write(line)\n",
    "    \n",
    "input_file.close()\n",
    "output_file.close()\n",
    "\n",
    "# Ethalon:\n",
    "# with open('input.txt', 'r') as input_file:\n",
    "#     with open('output.txt', 'w') as output_file:\n",
    "#         for line in input_file:\n",
    "#             output_file.write(line)"
   ]
  },
  {
   "cell_type": "code",
   "execution_count": 16,
   "metadata": {},
   "outputs": [],
   "source": [
    "# 7.5.\n",
    "\n",
    "with open('numbers.txt', 'r') as numbers_file:\n",
    "    lines = [int(line.rstrip()) for line in numbers_file]\n",
    "    with open('output.txt', 'w') as out_file:\n",
    "        out_file.write(str(min(lines) + max(lines)))\n",
    "        \n",
    "# Ethalon\n",
    "# filename = 'numbers.txt'\n",
    "# output = 'output.txt'\n",
    "\n",
    "# with open(filename) as f:\n",
    "#     min_ = max_ = float(f.readline())  # считали первое число\n",
    "#     for line in f:\n",
    "#         num =  float(line)\n",
    "#         if num > max_:\n",
    "#             max_ = num\n",
    "#         elif num < min_:\n",
    "#             min_ = num\n",
    "\n",
    "#     sum_ = min_ + max_\n",
    "\n",
    "# with open(output, 'w') as f:\n",
    "#     f.write(str(sum_))\n",
    "#     f.write('\\n')"
   ]
  },
  {
   "cell_type": "code",
   "execution_count": 37,
   "metadata": {},
   "outputs": [
    {
     "name": "stdout",
     "output_type": "stream",
     "text": [
      "4\n"
     ]
    }
   ],
   "source": [
    "# 7.6.\n",
    "import re\n",
    "\n",
    "with open('marks.txt', 'r', encoding='utf8') as marks_file:\n",
    "    count = []\n",
    "    for line in marks_file:\n",
    "        count.extend(\n",
    "            [int(s) for s in re.findall(r'\\b\\d+\\b', line) if int(s) < 3]\n",
    "            )\n",
    "\n",
    "print(len(count))\n",
    "\n",
    "# ethalon\n",
    "# count = 0\n",
    "# for line in open(\"input.txt\"):\n",
    "#     points = int(line.split()[-1])\n",
    "#     if points < 3:\n",
    "#         count += 1             \n"
   ]
  },
  {
   "cell_type": "code",
   "execution_count": 39,
   "metadata": {},
   "outputs": [],
   "source": [
    "# 7.7.\n",
    "\n",
    "with open('input.txt', 'r') as input_file:\n",
    "    with open('output.txt', 'w') as out_file:\n",
    "        for line in reversed(input_file.readlines()):\n",
    "            out_file.write(line)"
   ]
  },
  {
   "cell_type": "code",
   "execution_count": 43,
   "metadata": {},
   "outputs": [
    {
     "name": "stdout",
     "output_type": "stream",
     "text": [
      "ПОПА - не число!\n",
      "Выход из программы\n"
     ]
    }
   ],
   "source": [
    "# Exceptions\n",
    "\n",
    "def number_input(input=input('Введите число:')):\n",
    "    try:\n",
    "        input = int(input)\n",
    "    except ValueError:\n",
    "        print(f'{input} - не число!')\n",
    "    else:\n",
    "        print(f'Вы ввели число: {input}')\n",
    "    finally:\n",
    "        print('Выход из программы')\n",
    "        \n",
    "number_input()\n",
    "        \n",
    "        "
   ]
  }
 ],
 "metadata": {
  "kernelspec": {
   "display_name": "Python 3",
   "language": "python",
   "name": "python3"
  },
  "language_info": {
   "codemirror_mode": {
    "name": "ipython",
    "version": 3
   },
   "file_extension": ".py",
   "mimetype": "text/x-python",
   "name": "python",
   "nbconvert_exporter": "python",
   "pygments_lexer": "ipython3",
   "version": "3.10.9"
  },
  "orig_nbformat": 4,
  "vscode": {
   "interpreter": {
    "hash": "cc2a200e1e6dab10c4dc3986f0e7a998296447c993c26561a1bd050a849d8214"
   }
  }
 },
 "nbformat": 4,
 "nbformat_minor": 2
}
