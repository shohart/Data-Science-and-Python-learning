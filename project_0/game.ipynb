{
 "cells": [
  {
   "cell_type": "markdown",
   "metadata": {},
   "source": [
    "Game ***GUESS A NUMBER***"
   ]
  },
  {
   "cell_type": "code",
   "execution_count": 3,
   "metadata": {},
   "outputs": [],
   "source": [
    "from game_v2 import score_game\n",
    "from game_v2 import random_predict"
   ]
  },
  {
   "cell_type": "code",
   "execution_count": 4,
   "metadata": {},
   "outputs": [
    {
     "name": "stdout",
     "output_type": "stream",
     "text": [
      "Your function used 101 tries!\n"
     ]
    },
    {
     "data": {
      "text/plain": [
       "101"
      ]
     },
     "execution_count": 4,
     "metadata": {},
     "output_type": "execute_result"
    }
   ],
   "source": [
    "score_game(random_predict)"
   ]
  },
  {
   "cell_type": "markdown",
   "metadata": {},
   "source": [
    "**complete solution**"
   ]
  },
  {
   "cell_type": "code",
   "execution_count": null,
   "metadata": {},
   "outputs": [],
   "source": [
    "\"\"\"Game to guess a number. Shows you number of tries used.\n",
    "Your pc gueses a number that you picked by itself!\n",
    "\"\"\"\n",
    "import numpy as np\n",
    "\n",
    "def random_predict(number:int = 1) -> int:\n",
    "    \"\"\"Function to try guess a number using random method.\n",
    "\n",
    "    Args:\n",
    "        number (int, optional): Guessed number. Defaults to 1.\n",
    "\n",
    "    Returns:\n",
    "        int: number of tries needed\n",
    "    \"\"\"\n",
    "    count = 0\n",
    "\n",
    "    while True:\n",
    "        count += 1\n",
    "        predict_number = np.random.randint(1,101) # guessed number\n",
    "        if number == predict_number:\n",
    "            break\n",
    "    return(count)\n",
    "def score_game(random_predict) -> int:\n",
    "    \"\"\"Score prediction method\n",
    "\n",
    "    Args:\n",
    "        random_predict (_type_): prediction function\n",
    "\n",
    "    Returns:\n",
    "        int: number of mean tries\n",
    "    \"\"\"\n",
    "    count_ls =[]\n",
    "    np.random.seed(1) # fix the seed\n",
    "    random_array = np.random.randint(1, 101, size=(1000)) # Create a list of numbers to guess\n",
    "    \n",
    "    for number in random_array:\n",
    "        count_ls.append(random_predict(number))\n",
    "        \n",
    "    score = int(np.mean(count_ls))\n",
    "    print(f'Your function used {score} tries!')\n",
    "    return(score)\n",
    "\n",
    "if __name__ == '__main__':\n",
    "    #RUN\n",
    "    score_game(random_predict)\n",
    "\n",
    "#print(f'Number of tries: {random_predict(90)}')"
   ]
  },
  {
   "cell_type": "markdown",
   "metadata": {},
   "source": [
    "**game when you guess a number**"
   ]
  },
  {
   "cell_type": "code",
   "execution_count": null,
   "metadata": {},
   "outputs": [],
   "source": [
    "\"\"\"Game to guess a number. Shows you number of tries used.\n",
    "\"\"\"\n",
    "import numpy as np\n",
    "\n",
    "number = np.random.randint(1, 101) # Generate a number\n",
    "count = 0 # number of tries\n",
    "while True:\n",
    "    count += 1\n",
    "    pridoct_number = int(input(\"Guess a number, from 1 to 100:\\n\"))\n",
    "    \n",
    "    if pridoct_number > number:\n",
    "        print('Number should be less!')\n",
    "    elif pridoct_number < number:\n",
    "        print('Number should be more!')\n",
    "    else:\n",
    "        print(f\"You found a number! It is {number}, you used {count} tries!\")\n",
    "        break # Game over\n"
   ]
  }
 ],
 "metadata": {
  "kernelspec": {
   "display_name": "Python 3.10.6 64-bit (windows store)",
   "language": "python",
   "name": "python3"
  },
  "language_info": {
   "codemirror_mode": {
    "name": "ipython",
    "version": 3
   },
   "file_extension": ".py",
   "mimetype": "text/x-python",
   "name": "python",
   "nbconvert_exporter": "python",
   "pygments_lexer": "ipython3",
   "version": "3.10.6"
  },
  "orig_nbformat": 4,
  "vscode": {
   "interpreter": {
    "hash": "a8d2ca16b74ea316948e1f578950caea400a3d30a9ffb9493d95ce2899a18969"
   }
  }
 },
 "nbformat": 4,
 "nbformat_minor": 2
}
