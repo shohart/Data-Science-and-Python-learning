{
 "cells": [
  {
   "cell_type": "code",
   "execution_count": 9,
   "metadata": {},
   "outputs": [],
   "source": [
    "import smtplib"
   ]
  },
  {
   "cell_type": "code",
   "execution_count": 10,
   "metadata": {},
   "outputs": [],
   "source": [
    "smtp_object = smtplib.SMTP('smtp.gmail.com', 587)"
   ]
  },
  {
   "cell_type": "code",
   "execution_count": 11,
   "metadata": {},
   "outputs": [
    {
     "data": {
      "text/plain": [
       "(250,\n",
       " b'smtp.gmail.com at your service, [78.60.222.116]\\nSIZE 35882577\\n8BITMIME\\nSTARTTLS\\nENHANCEDSTATUSCODES\\nPIPELINING\\nCHUNKING\\nSMTPUTF8')"
      ]
     },
     "execution_count": 11,
     "metadata": {},
     "output_type": "execute_result"
    }
   ],
   "source": [
    "smtp_object.ehlo()"
   ]
  },
  {
   "cell_type": "code",
   "execution_count": 12,
   "metadata": {},
   "outputs": [
    {
     "data": {
      "text/plain": [
       "(220, b'2.0.0 Ready to start TLS')"
      ]
     },
     "execution_count": 12,
     "metadata": {},
     "output_type": "execute_result"
    }
   ],
   "source": [
    "smtp_object.starttls()"
   ]
  },
  {
   "cell_type": "code",
   "execution_count": 13,
   "metadata": {},
   "outputs": [],
   "source": [
    "import getpass"
   ]
  },
  {
   "cell_type": "code",
   "execution_count": 14,
   "metadata": {},
   "outputs": [
    {
     "data": {
      "text/plain": [
       "(235, b'2.7.0 Accepted')"
      ]
     },
     "execution_count": 14,
     "metadata": {},
     "output_type": "execute_result"
    }
   ],
   "source": [
    "email = getpass.getpass(\"Email: \")\n",
    "password = getpass.getpass(\"Password: \")\n",
    "smtp_object.login(email, password)"
   ]
  },
  {
   "cell_type": "code",
   "execution_count": 15,
   "metadata": {},
   "outputs": [
    {
     "data": {
      "text/plain": [
       "{}"
      ]
     },
     "execution_count": 15,
     "metadata": {},
     "output_type": "execute_result"
    }
   ],
   "source": [
    "from_address = email\n",
    "to_address = email\n",
    "subject = input(\"Enter the subject line: \")\n",
    "body = input(\"Enter the body message: \")\n",
    "msg = \"Subject: \" + subject + \"\\n\" + body\n",
    "\n",
    "smtp_object.sendmail(from_address, to_address, msg)"
   ]
  },
  {
   "cell_type": "code",
   "execution_count": 16,
   "metadata": {},
   "outputs": [
    {
     "data": {
      "text/plain": [
       "(221,\n",
       " b'2.0.0 closing connection r36-20020a05600c322400b003c21ba7d7d6sm1135523wmp.44 - gsmtp')"
      ]
     },
     "execution_count": 16,
     "metadata": {},
     "output_type": "execute_result"
    }
   ],
   "source": [
    "smtp_object.quit()"
   ]
  },
  {
   "cell_type": "code",
   "execution_count": 17,
   "metadata": {},
   "outputs": [],
   "source": [
    "import imaplib"
   ]
  },
  {
   "cell_type": "code",
   "execution_count": 18,
   "metadata": {},
   "outputs": [],
   "source": [
    "mail = imaplib.IMAP4_SSL('imap.gmail.com')"
   ]
  },
  {
   "cell_type": "code",
   "execution_count": 19,
   "metadata": {},
   "outputs": [],
   "source": [
    "import getpass"
   ]
  },
  {
   "cell_type": "code",
   "execution_count": 22,
   "metadata": {},
   "outputs": [],
   "source": [
    "email = getpass.getpass(\"Email: \")\n",
    "password = getpass.getpass('Password: ')"
   ]
  },
  {
   "cell_type": "code",
   "execution_count": 23,
   "metadata": {},
   "outputs": [
    {
     "data": {
      "text/plain": [
       "('OK', [b's.sovetnik@gmail.com authenticated (Success)'])"
      ]
     },
     "execution_count": 23,
     "metadata": {},
     "output_type": "execute_result"
    }
   ],
   "source": [
    "mail.login(email, password)"
   ]
  },
  {
   "cell_type": "code",
   "execution_count": 24,
   "metadata": {},
   "outputs": [
    {
     "data": {
      "text/plain": [
       "('OK',\n",
       " [b'(\\\\HasNoChildren) \"/\" \"Drafts\"',\n",
       "  b'(\\\\HasNoChildren) \"/\" \"ESET Antispam\"',\n",
       "  b'(\\\\HasNoChildren) \"/\" \"INBOX\"',\n",
       "  b'(\\\\HasNoChildren) \"/\" \"Notes\"',\n",
       "  b'(\\\\HasNoChildren) \"/\" \"Sent\"',\n",
       "  b'(\\\\HasNoChildren) \"/\" \"Trash\"',\n",
       "  b'(\\\\HasChildren \\\\Noselect) \"/\" \"[Gmail]\"',\n",
       "  b'(\\\\HasNoChildren \\\\Important) \"/\" \"[Gmail]/&BBIEMAQ2BD0EPgQ1-\"',\n",
       "  b'(\\\\All \\\\HasChildren) \"/\" \"[Gmail]/&BBIEQQRP- &BD8EPgRHBEIEMA-\"',\n",
       "  b'(\\\\HasNoChildren) \"/\" \"[Gmail]/&BBIEQQRP- &BD8EPgRHBEIEMA-/&BDAEQARFBDgEMg-\"',\n",
       "  b'(\\\\HasNoChildren \\\\Trash) \"/\" \"[Gmail]/&BBoEPgRABDcEOAQ9BDA-\"',\n",
       "  b'(\\\\HasNoChildren \\\\Sent) \"/\" \"[Gmail]/&BB4EQgQ,BEAEMAQyBDsENQQ9BD0ESwQ1-\"',\n",
       "  b'(\\\\Flagged \\\\HasNoChildren) \"/\" \"[Gmail]/&BB8EPgQ8BDUERwQ1BD0EPQRLBDU-\"',\n",
       "  b'(\\\\HasNoChildren \\\\Junk) \"/\" \"[Gmail]/&BCEEPwQwBDw-\"',\n",
       "  b'(\\\\Drafts \\\\HasNoChildren) \"/\" \"[Gmail]/&BCcENQRABD0EPgQyBDgEOgQ4-\"',\n",
       "  b'(\\\\HasNoChildren) \"/\" \"&BBoEPgRABDcEOAQ9BDA-\"',\n",
       "  b'(\\\\HasNoChildren) \"/\" \"&BB0ENQQ2BDUEOwQwBEIENQQ7BEwEPQQwBE8- &BD8EPgRHBEIEMA-\"',\n",
       "  b'(\\\\HasNoChildren) \"/\" \"&BB4EQgQ,BEAEMAQyBDsENQQ9BD0ESwQ1-\"',\n",
       "  b'(\\\\HasNoChildren) \"/\" \"&BCcENQRABD0EPgQyBDgEOgQ4-\"'])"
      ]
     },
     "execution_count": 24,
     "metadata": {},
     "output_type": "execute_result"
    }
   ],
   "source": [
    "mail.list()"
   ]
  },
  {
   "cell_type": "code",
   "execution_count": 25,
   "metadata": {},
   "outputs": [
    {
     "data": {
      "text/plain": [
       "('OK', [b'13169'])"
      ]
     },
     "execution_count": 25,
     "metadata": {},
     "output_type": "execute_result"
    }
   ],
   "source": [
    "mail.select('inbox')"
   ]
  },
  {
   "cell_type": "code",
   "execution_count": 32,
   "metadata": {},
   "outputs": [],
   "source": [
    "typ, data = mail.search(None, 'SUBJECT \"Test message to send via Python\"')"
   ]
  },
  {
   "cell_type": "code",
   "execution_count": 34,
   "metadata": {},
   "outputs": [],
   "source": [
    "email_id = data[0]"
   ]
  },
  {
   "cell_type": "code",
   "execution_count": 35,
   "metadata": {},
   "outputs": [],
   "source": [
    "result, email_data = mail.fetch(email_id, '(RFC822)')"
   ]
  },
  {
   "cell_type": "code",
   "execution_count": 36,
   "metadata": {},
   "outputs": [
    {
     "data": {
      "text/plain": [
       "[(b'13169 (RFC822 {635}',\n",
       "  b'Bcc: s.sovetnik@gmail.com\\r\\nReturn-Path: <s.sovetnik@gmail.com>\\r\\nReceived: from [192.168.0.162] (78-60-222-116.static.zebra.lt. [78.60.222.116])\\r\\n        by smtp.gmail.com with ESMTPSA id r36-20020a05600c322400b003c21ba7d7d6sm1135523wmp.44.2023.01.25.01.03.42\\r\\n        for <s.sovetnik@gmail.com>\\r\\n        (version=TLS1_3 cipher=TLS_AES_256_GCM_SHA384 bits=256/256);\\r\\n        Wed, 25 Jan 2023 01:03:42 -0800 (PST)\\r\\nMessage-ID: <63d0f06e.050a0220.97b9a.2307@mx.google.com>\\r\\nDate: Wed, 25 Jan 2023 01:03:42 -0800 (PST)\\r\\nFrom: s.sovetnik@gmail.com\\r\\nSubject: Test message to send via Python\\r\\n\\r\\nHello! I am a python script! Am I doing Well?\\r\\n'),\n",
       " b')']"
      ]
     },
     "execution_count": 36,
     "metadata": {},
     "output_type": "execute_result"
    }
   ],
   "source": [
    "email_data"
   ]
  },
  {
   "cell_type": "code",
   "execution_count": 37,
   "metadata": {},
   "outputs": [],
   "source": [
    "raw_email = email_data[0][1]"
   ]
  },
  {
   "cell_type": "code",
   "execution_count": 38,
   "metadata": {},
   "outputs": [],
   "source": [
    "raw_email_string = raw_email.decode('utf-8')"
   ]
  },
  {
   "cell_type": "code",
   "execution_count": 39,
   "metadata": {},
   "outputs": [],
   "source": [
    "import email\n",
    "\n",
    "email_message = email.message_from_string(raw_email_string)"
   ]
  },
  {
   "cell_type": "code",
   "execution_count": 40,
   "metadata": {},
   "outputs": [
    {
     "name": "stdout",
     "output_type": "stream",
     "text": [
      "b'Hello! I am a python script! Am I doing Well?\\r\\n'\n"
     ]
    }
   ],
   "source": [
    "for part in email_message.walk():\n",
    "    if part.get_content_type() == 'text/plain':\n",
    "        body = part.get_payload(decode=True)\n",
    "        print(body)"
   ]
  }
 ],
 "metadata": {
  "kernelspec": {
   "display_name": "Python 3",
   "language": "python",
   "name": "python3"
  },
  "language_info": {
   "codemirror_mode": {
    "name": "ipython",
    "version": 3
   },
   "file_extension": ".py",
   "mimetype": "text/x-python",
   "name": "python",
   "nbconvert_exporter": "python",
   "pygments_lexer": "ipython3",
   "version": "3.11.1"
  },
  "orig_nbformat": 4,
  "vscode": {
   "interpreter": {
    "hash": "6a6f0dd55330fb9c56f74fcede277488b6753b1fac5818060d06d6a397fa54cd"
   }
  }
 },
 "nbformat": 4,
 "nbformat_minor": 2
}
